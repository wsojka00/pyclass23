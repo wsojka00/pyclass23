{
 "cells": [
  {
   "cell_type": "code",
   "execution_count": 80,
   "id": "d4e5a3e0",
   "metadata": {},
   "outputs": [],
   "source": [
    "import numpy as np\n",
    "import matplotlib.pyplot as plt\n",
    "from matplotlib import animation\n",
    "from matplotlib import colors\n",
    "import collections"
   ]
  },
  {
   "cell_type": "code",
   "execution_count": 174,
   "id": "ebfbab9f",
   "metadata": {},
   "outputs": [],
   "source": [
    "## define state parameters\n",
    "\n",
    "tree = 1\n",
    "set_fire = 2\n",
    "burnt = 3\n",
    "# probability of growing a tree\n",
    "grow_tree_prob = 0.1\n",
    "fire_prob = 0.01"
   ]
  },
  {
   "cell_type": "code",
   "execution_count": 134,
   "id": "08943109",
   "metadata": {},
   "outputs": [],
   "source": [
    "def init_forest(nx, ny, tree_density):\n",
    "    \"\"\"Create a forest as a grid of n x m size. \n",
    "    \n",
    "    Input:\n",
    "    n (int): width of forest grid.\n",
    "    m (int): height of forest grid.\n",
    "    tree_density (int): initial highest density of trees in forest.\n",
    "    \n",
    "    Output:\n",
    "    n x m forest grid.\"\"\"\n",
    "    \n",
    "    forest = np.zeros((nx, ny), dtype=int)\n",
    "    forest[1:nx-1, 1:ny-1] = np.random.randint(0, 2, size=(nx-2,ny-2))\n",
    "    # correct for density\n",
    "    forest[1:nx-1, 1:ny-1] = np.random.random(size=(nx-2, ny-2)) < tree_density\n",
    "    \n",
    "    return forest"
   ]
  },
  {
   "cell_type": "code",
   "execution_count": 171,
   "id": "f6e5592a",
   "metadata": {},
   "outputs": [
    {
     "name": "stdout",
     "output_type": "stream",
     "text": [
      "[[0 0 0 0 0 0 0 0 0 0]\n",
      " [0 1 0 0 0 1 1 0 1 0]\n",
      " [0 1 1 1 1 0 1 0 1 0]\n",
      " [0 1 1 0 0 1 0 1 1 0]\n",
      " [0 1 1 1 1 1 1 1 0 0]\n",
      " [0 1 1 0 0 0 1 1 0 0]\n",
      " [0 0 1 1 0 0 1 1 0 0]\n",
      " [0 0 1 1 1 0 1 1 1 0]\n",
      " [0 1 0 1 1 0 1 1 0 0]\n",
      " [0 0 0 0 0 0 0 0 0 0]]\n"
     ]
    },
    {
     "data": {
      "text/plain": [
       "0.41"
      ]
     },
     "execution_count": 171,
     "metadata": {},
     "output_type": "execute_result"
    }
   ],
   "source": [
    "forest = init_forest(10, 10, 0.6)\n",
    "print(forest)\n",
    "# count the density of trees\n",
    "np.count_nonzero(forest == 1) / 100"
   ]
  },
  {
   "cell_type": "code",
   "execution_count": 173,
   "id": "ea159fcb",
   "metadata": {},
   "outputs": [
    {
     "data": {
      "text/plain": [
       "10"
      ]
     },
     "execution_count": 173,
     "metadata": {},
     "output_type": "execute_result"
    }
   ],
   "source": [
    "forest.shape[0]"
   ]
  },
  {
   "cell_type": "code",
   "execution_count": 190,
   "id": "e21c7010",
   "metadata": {},
   "outputs": [],
   "source": [
    "def set_fire(forest, x, y):\n",
    "    \"\"\" Set fire at position x and y of the forest if there is any tree.\n",
    "\n",
    "    Input:\n",
    "    forest(array): array representing forest frid, created by init_forest() function.\n",
    "    x(int), y(int): x and y location of tree which will be set on fire.\n",
    "    \n",
    "    \n",
    "    post[forest]:\n",
    "        If x, y is properly within the array, the tree at x, y is set.\n",
    "        Otherwise, one tree in the center of the forest is set.\n",
    "    \"\"\"\n",
    "\n",
    "    if x >= forest.shape[0] or y >= forest.shape[1]:\n",
    "        raise TypeError(\"Don't exceed number of rows or columns\")\n",
    "    else:\n",
    "        x = int(x)\n",
    "        y = int(y)\n",
    "        forest[x,y] = 2\n",
    "        return forest"
   ]
  },
  {
   "cell_type": "code",
   "execution_count": 191,
   "id": "53401926",
   "metadata": {},
   "outputs": [
    {
     "data": {
      "text/plain": [
       "array([[0, 0, 0, 0, 0, 0, 0, 0, 0, 0],\n",
       "       [0, 1, 0, 0, 0, 1, 1, 0, 1, 0],\n",
       "       [0, 1, 2, 1, 2, 0, 1, 0, 1, 0],\n",
       "       [0, 1, 1, 0, 0, 1, 0, 1, 1, 0],\n",
       "       [0, 1, 1, 1, 1, 1, 1, 1, 0, 0],\n",
       "       [0, 1, 1, 0, 0, 0, 1, 1, 0, 0],\n",
       "       [0, 0, 1, 1, 0, 0, 1, 1, 0, 0],\n",
       "       [0, 0, 1, 1, 1, 0, 1, 1, 1, 0],\n",
       "       [0, 1, 0, 1, 1, 0, 1, 1, 0, 0],\n",
       "       [0, 0, 0, 0, 0, 0, 0, 0, 0, 0]])"
      ]
     },
     "execution_count": 191,
     "metadata": {},
     "output_type": "execute_result"
    }
   ],
   "source": [
    "set_fire(forest, 2, 2)"
   ]
  },
  {
   "cell_type": "code",
   "execution_count": null,
   "id": "1a1ff7a5",
   "metadata": {},
   "outputs": [],
   "source": []
  }
 ],
 "metadata": {
  "kernelspec": {
   "display_name": "Python 3",
   "language": "python",
   "name": "python3"
  },
  "language_info": {
   "codemirror_mode": {
    "name": "ipython",
    "version": 3
   },
   "file_extension": ".py",
   "mimetype": "text/x-python",
   "name": "python",
   "nbconvert_exporter": "python",
   "pygments_lexer": "ipython3",
   "version": "3.8.8"
  }
 },
 "nbformat": 4,
 "nbformat_minor": 5
}

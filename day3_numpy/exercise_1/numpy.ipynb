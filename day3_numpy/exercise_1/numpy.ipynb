{
 "cells": [
  {
   "cell_type": "code",
   "execution_count": 1,
   "metadata": {},
   "outputs": [],
   "source": [
    "import numpy as np"
   ]
  },
  {
   "cell_type": "markdown",
   "metadata": {},
   "source": [
    "# Existing data\n",
    "\n",
    "We randomly generated data with shapes (100, 3).\n",
    "Assume these are 100 samples from 3 groups.\n",
    "Each sample has a value (float) stored in \"data.npy\" and a name (string) stored in \"names.npy\".\n",
    "\n",
    "In one group, there were fewer samples, and the matrices have been filled with NaNs (data) and empty strings (names).\n",
    "\n",
    "The NaNs and respective names (see above) are to be ignored in all tasks.\n",
    "For example, you can use \"np.nanmean\" instead of \"np.mean\" to automatically ignore NaNs"
   ]
  },
  {
   "cell_type": "code",
   "execution_count": 2,
   "metadata": {},
   "outputs": [],
   "source": [
    "%run create_dataset.py"
   ]
  },
  {
   "cell_type": "code",
   "execution_count": 3,
   "metadata": {},
   "outputs": [],
   "source": [
    "# Load data\n",
    "dat = np.load('data.npy')\n",
    "nam = np.load('names.npy')"
   ]
  },
  {
   "cell_type": "markdown",
   "metadata": {},
   "source": [
    "print the shapes and data types of both arrays"
   ]
  },
  {
   "cell_type": "code",
   "execution_count": 5,
   "metadata": {},
   "outputs": [
    {
     "data": {
      "text/plain": [
       "(100, 3)"
      ]
     },
     "execution_count": 5,
     "metadata": {},
     "output_type": "execute_result"
    }
   ],
   "source": [
    "# Enter code:\n",
    "dat.shape"
   ]
  },
  {
   "cell_type": "code",
   "execution_count": 6,
   "metadata": {},
   "outputs": [
    {
     "data": {
      "text/plain": [
       "(100, 3)"
      ]
     },
     "execution_count": 6,
     "metadata": {},
     "output_type": "execute_result"
    }
   ],
   "source": [
    "nam.shape"
   ]
  },
  {
   "cell_type": "markdown",
   "metadata": {},
   "source": [
    "compute the means of all 3 groups, ignore NaNs"
   ]
  },
  {
   "cell_type": "code",
   "execution_count": 20,
   "metadata": {
    "pycharm": {
     "is_executing": true
    }
   },
   "outputs": [
    {
     "data": {
      "text/plain": [
       "3.4749240090253686"
      ]
     },
     "execution_count": 20,
     "metadata": {},
     "output_type": "execute_result"
    }
   ],
   "source": [
    "# Enter code:\n",
    "np.nanmean(dat[:, 0])"
   ]
  },
  {
   "cell_type": "code",
   "execution_count": 21,
   "metadata": {},
   "outputs": [
    {
     "data": {
      "text/plain": [
       "3.2619747841691717"
      ]
     },
     "execution_count": 21,
     "metadata": {},
     "output_type": "execute_result"
    }
   ],
   "source": [
    "np.nanmean(dat[:, 1])"
   ]
  },
  {
   "cell_type": "code",
   "execution_count": 22,
   "metadata": {},
   "outputs": [
    {
     "data": {
      "text/plain": [
       "5.00776356055341"
      ]
     },
     "execution_count": 22,
     "metadata": {},
     "output_type": "execute_result"
    }
   ],
   "source": [
    "np.nanmean(dat[:, 2])"
   ]
  },
  {
   "cell_type": "markdown",
   "metadata": {},
   "source": [
    "compute the means of all 3 groups, but ignore the first 10 and last 10 samples of each group"
   ]
  },
  {
   "cell_type": "code",
   "execution_count": 28,
   "metadata": {
    "pycharm": {
     "is_executing": true
    }
   },
   "outputs": [
    {
     "data": {
      "text/plain": [
       "3.4430143648331906"
      ]
     },
     "execution_count": 28,
     "metadata": {},
     "output_type": "execute_result"
    }
   ],
   "source": [
    "# Enter code:\n",
    "np.nanmean(dat[10:90, 0])"
   ]
  },
  {
   "cell_type": "code",
   "execution_count": 29,
   "metadata": {},
   "outputs": [
    {
     "data": {
      "text/plain": [
       "3.373043907651342"
      ]
     },
     "execution_count": 29,
     "metadata": {},
     "output_type": "execute_result"
    }
   ],
   "source": [
    "np.nanmean(dat[10:90, 1])"
   ]
  },
  {
   "cell_type": "code",
   "execution_count": 30,
   "metadata": {},
   "outputs": [
    {
     "data": {
      "text/plain": [
       "5.133763123226796"
      ]
     },
     "execution_count": 30,
     "metadata": {},
     "output_type": "execute_result"
    }
   ],
   "source": [
    "np.nanmean(dat[10:90, 2])"
   ]
  },
  {
   "cell_type": "markdown",
   "metadata": {},
   "source": [
    "compute the standard deviations and standard errors of all 3 groups"
   ]
  },
  {
   "cell_type": "code",
   "execution_count": 36,
   "metadata": {
    "pycharm": {
     "is_executing": true
    }
   },
   "outputs": [
    {
     "data": {
      "text/plain": [
       "1.0090151675389927"
      ]
     },
     "execution_count": 36,
     "metadata": {},
     "output_type": "execute_result"
    }
   ],
   "source": [
    "# Enter code:\n",
    "\n",
    "np.nanstd(dat[:, 0])"
   ]
  },
  {
   "cell_type": "code",
   "execution_count": 35,
   "metadata": {},
   "outputs": [
    {
     "data": {
      "text/plain": [
       "1.1368036109073036"
      ]
     },
     "execution_count": 35,
     "metadata": {},
     "output_type": "execute_result"
    }
   ],
   "source": [
    "np.nanstd(dat[:, 1])"
   ]
  },
  {
   "cell_type": "code",
   "execution_count": 37,
   "metadata": {},
   "outputs": [
    {
     "data": {
      "text/plain": [
       "3.3808420138725315"
      ]
     },
     "execution_count": 37,
     "metadata": {},
     "output_type": "execute_result"
    }
   ],
   "source": [
    "np.nanstd(dat[:, 2])"
   ]
  },
  {
   "cell_type": "markdown",
   "metadata": {},
   "source": [
    "find the maximum for each group, and the maximum value across all groups"
   ]
  },
  {
   "cell_type": "code",
   "execution_count": 38,
   "metadata": {
    "pycharm": {
     "is_executing": true
    }
   },
   "outputs": [
    {
     "data": {
      "text/plain": [
       "6.059347551698167"
      ]
     },
     "execution_count": 38,
     "metadata": {},
     "output_type": "execute_result"
    }
   ],
   "source": [
    "# Enter code:\n",
    "\n",
    "np.nanmax(dat[:, 0])"
   ]
  },
  {
   "cell_type": "code",
   "execution_count": 39,
   "metadata": {},
   "outputs": [
    {
     "data": {
      "text/plain": [
       "5.015752812467621"
      ]
     },
     "execution_count": 39,
     "metadata": {},
     "output_type": "execute_result"
    }
   ],
   "source": [
    "np.nanmax(dat[:, 1])"
   ]
  },
  {
   "cell_type": "code",
   "execution_count": 40,
   "metadata": {},
   "outputs": [
    {
     "data": {
      "text/plain": [
       "16.558194471964164"
      ]
     },
     "execution_count": 40,
     "metadata": {},
     "output_type": "execute_result"
    }
   ],
   "source": [
    "np.nanmax(dat[:, 2])"
   ]
  },
  {
   "cell_type": "code",
   "execution_count": 41,
   "metadata": {},
   "outputs": [
    {
     "data": {
      "text/plain": [
       "16.558194471964164"
      ]
     },
     "execution_count": 41,
     "metadata": {},
     "output_type": "execute_result"
    }
   ],
   "source": [
    "np.nanmax(dat)"
   ]
  },
  {
   "cell_type": "markdown",
   "metadata": {},
   "source": [
    "create a new array with the same shape and sorted values of each group in descending order (NaNs, come last).\n",
    "\n",
    "optional: sort the names of each group respectively. hint: use \"np.argsort\" and \"np.take_along_axis\""
   ]
  },
  {
   "cell_type": "code",
   "execution_count": 53,
   "metadata": {
    "pycharm": {
     "is_executing": true
    }
   },
   "outputs": [
    {
     "data": {
      "text/plain": [
       "array([1.86606598, 1.86606598, 1.86606598, 1.86606598, 1.86606598,\n",
       "       1.86606598, 1.86606598, 1.86606598, 1.86606598, 1.86606598,\n",
       "       1.86606598, 1.86606598, 1.86606598, 1.86606598, 1.86606598,\n",
       "       1.86606598, 1.86606598, 1.86606598, 1.86606598, 1.89709293,\n",
       "       1.90853375, 1.97016885, 2.01757848, 2.06003548, 2.10433424,\n",
       "       2.16468509, 2.19506638, 2.22642032, 2.27497165, 2.37466341,\n",
       "       2.40078848, 2.42549214, 2.43928354, 2.48916007, 2.52501448,\n",
       "       2.52569947, 2.54331559, 2.58071515, 2.63983239, 2.68504158,\n",
       "       2.74680128, 2.75127173, 2.77398026, 2.78437668, 2.86126542,\n",
       "       2.98403869, 3.00661057, 3.06460022, 3.10881079, 3.11303983,\n",
       "       3.12999666, 3.18987764, 3.24342767, 3.26477473, 3.30188438,\n",
       "       3.36114833, 3.36532604, 3.36786939, 3.55353223, 3.57644188,\n",
       "       3.58276847, 3.58784188, 3.61831202, 3.65554448, 3.6595883 ,\n",
       "       3.88872343, 3.93824744, 3.9513447 , 3.99723068, 4.02065558,\n",
       "       4.04369948, 4.21621088, 4.2165798 , 4.27975194, 4.29030842,\n",
       "       4.38957213, 4.46137956, 4.53095386, 4.62044385, 4.66440921,\n",
       "       4.67532857, 4.68622916, 4.73275325, 4.73326256, 4.74719025,\n",
       "       4.74792414, 4.75494567, 4.91222879, 4.96854737, 5.01575281,\n",
       "       5.01575281, 5.01575281, 5.01575281, 5.01575281, 5.01575281,\n",
       "       5.01575281, 5.01575281, 5.01575281, 5.01575281, 5.01575281])"
      ]
     },
     "execution_count": 53,
     "metadata": {},
     "output_type": "execute_result"
    }
   ],
   "source": [
    "# Enter code:\n",
    "\n",
    "dat[:, 1] = np.sort(dat[:, 1])\n",
    "dat[:, 1]"
   ]
  },
  {
   "cell_type": "markdown",
   "metadata": {},
   "source": [
    "find the name of the sample with the largest value"
   ]
  },
  {
   "cell_type": "code",
   "execution_count": null,
   "metadata": {
    "pycharm": {
     "is_executing": true
    }
   },
   "outputs": [],
   "source": [
    "# Enter code:\n",
    "\n"
   ]
  },
  {
   "cell_type": "markdown",
   "metadata": {},
   "source": [
    "for the first group, find all values smaller than 3"
   ]
  },
  {
   "cell_type": "code",
   "execution_count": 56,
   "metadata": {
    "pycharm": {
     "is_executing": true
    }
   },
   "outputs": [
    {
     "data": {
      "text/plain": [
       "array([1.86606598, 1.86606598, 1.86606598, 1.86606598, 1.86606598,\n",
       "       1.86606598, 1.86606598, 1.86606598, 1.86606598, 1.86606598,\n",
       "       1.86606598, 1.86606598, 1.86606598, 1.86606598, 1.86606598,\n",
       "       1.86606598, 1.86606598, 1.86606598, 1.86606598, 1.89709293,\n",
       "       1.90853375, 1.97016885, 2.01757848, 2.06003548, 2.10433424,\n",
       "       2.16468509, 2.19506638, 2.22642032, 2.27497165, 2.37466341,\n",
       "       2.40078848, 2.42549214, 2.43928354, 2.48916007, 2.52501448,\n",
       "       2.52569947, 2.54331559, 2.58071515, 2.63983239, 2.68504158,\n",
       "       2.74680128, 2.75127173, 2.77398026, 2.78437668, 2.86126542,\n",
       "       2.98403869])"
      ]
     },
     "execution_count": 56,
     "metadata": {},
     "output_type": "execute_result"
    }
   ],
   "source": [
    "# Enter code:\n",
    "\n",
    "dat[:, 1][dat[:, 1] < 3]\n",
    "\n",
    "#np.where provides indices"
   ]
  },
  {
   "cell_type": "markdown",
   "metadata": {},
   "source": [
    "for all groups, find all names that start with an a. put them all in a single array"
   ]
  },
  {
   "cell_type": "code",
   "execution_count": 62,
   "metadata": {
    "pycharm": {
     "is_executing": true
    }
   },
   "outputs": [
    {
     "data": {
      "text/plain": [
       "array(['atgdfyaewa', 'abaaimamtz', 'aglquzxted', 'aczhdpwjln',\n",
       "       'aiypmiumik', 'awreoqclba', 'awrmbiubyi', 'akctwzdrwf',\n",
       "       'ajrzhukwbh', 'amsxcxqetu'], dtype='<U10')"
      ]
     },
     "execution_count": 62,
     "metadata": {},
     "output_type": "execute_result"
    }
   ],
   "source": [
    "# Enter code:\n",
    "\n",
    "nam[np.char.startswith(nam, \"a\")]"
   ]
  },
  {
   "cell_type": "markdown",
   "metadata": {},
   "source": [
    "create a new array where the dimensions are swapped. print the shape."
   ]
  },
  {
   "cell_type": "code",
   "execution_count": 65,
   "metadata": {},
   "outputs": [
    {
     "data": {
      "text/plain": [
       "(3, 100)"
      ]
     },
     "execution_count": 65,
     "metadata": {},
     "output_type": "execute_result"
    }
   ],
   "source": [
    "# Enter code:\n",
    "\n",
    "nam.T.shape"
   ]
  },
  {
   "cell_type": "markdown",
   "metadata": {},
   "source": [
    "create a new array from data where every 2nd sample per group is removed. print the shape."
   ]
  },
  {
   "cell_type": "code",
   "execution_count": 1,
   "metadata": {},
   "outputs": [],
   "source": [
    "# Enter code:\n"
   ]
  },
  {
   "cell_type": "markdown",
   "metadata": {},
   "source": [
    "find the value of the sample with most a's in the name. find all if multiple exist"
   ]
  },
  {
   "cell_type": "code",
   "execution_count": null,
   "metadata": {
    "pycharm": {
     "is_executing": true
    }
   },
   "outputs": [],
   "source": [
    "# Enter code:"
   ]
  },
  {
   "cell_type": "markdown",
   "metadata": {},
   "source": [
    "implement three ways to index the 90th sample of the second group.\n",
    "\n",
    "confirm that all methods give the same value.\n",
    "\n",
    "hint: the first value of a 1d array in indexed by \"arr[0]\" and not \"arr[1]\""
   ]
  },
  {
   "cell_type": "code",
   "execution_count": 4,
   "metadata": {},
   "outputs": [],
   "source": [
    "# Enter code:"
   ]
  },
  {
   "cell_type": "markdown",
   "metadata": {},
   "source": [
    "# New data"
   ]
  },
  {
   "cell_type": "markdown",
   "metadata": {},
   "source": [
    "create an array with all even numbers between 0 and 100, sorted from highest to lowest"
   ]
  },
  {
   "cell_type": "code",
   "execution_count": 97,
   "metadata": {
    "pycharm": {
     "is_executing": true
    }
   },
   "outputs": [
    {
     "data": {
      "text/plain": [
       "array([  0,   1,   2,   3,   4,   5,   6,   7,   8,   9,  10,  11,  12,\n",
       "        13,  14,  15,  16,  17,  18,  19,  20,  21,  22,  23,  24,  25,\n",
       "        26,  27,  28,  29,  30,  31,  32,  33,  34,  35,  36,  37,  38,\n",
       "        39,  40,  41,  42,  43,  44,  45,  46,  47,  48,  49,  50,  51,\n",
       "        52,  53,  54,  55,  56,  57,  58,  59,  60,  61,  62,  63,  64,\n",
       "        65,  66,  67,  68,  69,  70,  71,  72,  73,  74,  75,  76,  77,\n",
       "        78,  79,  80,  81,  82,  83,  84,  85,  86,  87,  88,  89,  90,\n",
       "        91,  92,  93,  94,  95,  96,  97,  98,  99, 100])"
      ]
     },
     "execution_count": 97,
     "metadata": {},
     "output_type": "execute_result"
    }
   ],
   "source": [
    "# Enter code:\n",
    "\n",
    "arr = np.arange(0,101)\n",
    "arr"
   ]
  },
  {
   "cell_type": "code",
   "execution_count": 98,
   "metadata": {},
   "outputs": [
    {
     "data": {
      "text/plain": [
       "array([100,  99,  98,  97,  96,  95,  94,  93,  92,  91,  90,  89,  88,\n",
       "        87,  86,  85,  84,  83,  82,  81,  80,  79,  78,  77,  76,  75,\n",
       "        74,  73,  72,  71,  70,  69,  68,  67,  66,  65,  64,  63,  62,\n",
       "        61,  60,  59,  58,  57,  56,  55,  54,  53,  52,  51,  50,  49,\n",
       "        48,  47,  46,  45,  44,  43,  42,  41,  40,  39,  38,  37,  36,\n",
       "        35,  34,  33,  32,  31,  30,  29,  28,  27,  26,  25,  24,  23,\n",
       "        22,  21,  20,  19,  18,  17,  16,  15,  14,  13,  12,  11,  10,\n",
       "         9,   8,   7,   6,   5,   4,   3,   2,   1,   0])"
      ]
     },
     "execution_count": 98,
     "metadata": {},
     "output_type": "execute_result"
    }
   ],
   "source": [
    "arr[::-1]"
   ]
  },
  {
   "cell_type": "markdown",
   "metadata": {},
   "source": [
    "draw 100 samples from a normal distribution with mean=0 and stddev=3, then drop all values larger than 3 or smaller than -3"
   ]
  },
  {
   "cell_type": "code",
   "execution_count": 72,
   "metadata": {
    "pycharm": {
     "is_executing": true
    }
   },
   "outputs": [
    {
     "data": {
      "text/plain": [
       "array([-1.94817508,  2.31628437,  3.33473597,  5.804118  ,  0.20924055,\n",
       "       -1.91929358, -3.00741579, -3.30537959,  3.7493421 , -4.54528603,\n",
       "        3.65324546, -2.60532309, -2.05561859, -0.45466637, -2.11096365,\n",
       "        2.79593926,  5.44003186, -1.97229647, -1.29671352, -0.48996242,\n",
       "        1.62317029, -0.46045284,  4.16177223,  3.43987175, -3.55638706,\n",
       "        1.5629045 ,  4.56101771, -1.48434284, -0.88279462, -1.58411099,\n",
       "       -1.52122685, -5.00535466, -3.98494485,  0.23242116,  4.54079392,\n",
       "       -1.84008244, -1.92827191,  5.10456321, -3.32477239, -4.98372949,\n",
       "       -2.48554631, -1.98835344, -5.24235925, -0.38412512,  2.84533905,\n",
       "       -3.85786432,  0.26273466,  1.18780703, -0.25015283,  0.55707777,\n",
       "        0.59198179, -2.43818387,  4.49574772,  3.7432705 ,  3.56973419,\n",
       "        3.04102722, -4.72493841,  2.77818713,  1.96680428, -4.60957084,\n",
       "       -0.64473107,  0.83038035,  4.99295129,  2.17417157, -2.59369718,\n",
       "        5.08616538,  0.13133929, -0.76752341, -0.98135459, -4.87066571,\n",
       "       -0.32930851,  1.49245577, -1.15614998,  1.26135743, -2.59317321,\n",
       "       -0.42278374,  0.94962098,  0.56898263, -4.81639527, -1.31701785,\n",
       "        5.03238879, -1.47733822,  0.04742263, -0.26026725,  4.70471928,\n",
       "        3.87110437,  2.422593  , -2.91972694,  1.07754915,  1.70382523,\n",
       "       -2.09581451, -2.61155132,  5.11504244, -0.90240994,  4.84493046,\n",
       "        2.99128127,  1.22363035,  1.35759431, -4.20125868,  0.62032434])"
      ]
     },
     "execution_count": 72,
     "metadata": {},
     "output_type": "execute_result"
    }
   ],
   "source": [
    "# Enter code:\n",
    "\n",
    "mu, sigma = 0, 3\n",
    "norm = np.random.normal(mu, sigma, 100)\n",
    "norm"
   ]
  },
  {
   "cell_type": "code",
   "execution_count": 87,
   "metadata": {},
   "outputs": [
    {
     "data": {
      "text/plain": [
       "array([3.33473597, 5.804118  , 3.7493421 , 3.65324546, 5.44003186,\n",
       "       4.16177223, 3.43987175, 4.56101771, 4.54079392, 5.10456321,\n",
       "       4.49574772, 3.7432705 , 3.56973419, 3.04102722, 4.99295129,\n",
       "       5.08616538, 5.03238879, 4.70471928, 3.87110437, 5.11504244,\n",
       "       4.84493046])"
      ]
     },
     "execution_count": 87,
     "metadata": {},
     "output_type": "execute_result"
    }
   ],
   "source": [
    "norm = norm[(3 < norm) & (norm > -3)]\n",
    "norm"
   ]
  },
  {
   "cell_type": "markdown",
   "metadata": {},
   "source": [
    "draw samples from a bionomial distribution with n=10, p=0.5 and shape (20, 3, 4)"
   ]
  },
  {
   "cell_type": "code",
   "execution_count": 99,
   "metadata": {
    "pycharm": {
     "is_executing": true
    }
   },
   "outputs": [
    {
     "data": {
      "text/plain": [
       "array([[[5, 6, 6, 5],\n",
       "        [3, 4, 7, 5],\n",
       "        [5, 4, 4, 7]],\n",
       "\n",
       "       [[6, 6, 5, 6],\n",
       "        [4, 6, 5, 5],\n",
       "        [6, 7, 3, 6]],\n",
       "\n",
       "       [[4, 5, 2, 4],\n",
       "        [5, 3, 5, 7],\n",
       "        [3, 6, 5, 6]],\n",
       "\n",
       "       [[4, 3, 3, 3],\n",
       "        [4, 6, 7, 6],\n",
       "        [6, 3, 4, 4]],\n",
       "\n",
       "       [[4, 5, 5, 4],\n",
       "        [4, 7, 6, 4],\n",
       "        [7, 8, 4, 4]],\n",
       "\n",
       "       [[5, 7, 7, 3],\n",
       "        [5, 5, 5, 4],\n",
       "        [7, 6, 7, 7]],\n",
       "\n",
       "       [[6, 5, 5, 3],\n",
       "        [6, 4, 6, 4],\n",
       "        [3, 3, 1, 6]],\n",
       "\n",
       "       [[6, 5, 3, 3],\n",
       "        [2, 3, 7, 4],\n",
       "        [4, 3, 4, 5]],\n",
       "\n",
       "       [[5, 4, 3, 5],\n",
       "        [4, 4, 8, 5],\n",
       "        [5, 5, 5, 5]],\n",
       "\n",
       "       [[6, 6, 3, 5],\n",
       "        [5, 7, 6, 5],\n",
       "        [3, 5, 3, 4]],\n",
       "\n",
       "       [[3, 6, 4, 5],\n",
       "        [7, 4, 5, 5],\n",
       "        [2, 6, 3, 5]],\n",
       "\n",
       "       [[5, 6, 6, 4],\n",
       "        [1, 6, 5, 7],\n",
       "        [6, 7, 5, 4]],\n",
       "\n",
       "       [[6, 5, 4, 7],\n",
       "        [7, 5, 3, 5],\n",
       "        [6, 7, 4, 3]],\n",
       "\n",
       "       [[7, 5, 5, 8],\n",
       "        [3, 6, 3, 4],\n",
       "        [6, 5, 9, 5]],\n",
       "\n",
       "       [[4, 4, 4, 4],\n",
       "        [3, 4, 5, 6],\n",
       "        [6, 6, 1, 4]],\n",
       "\n",
       "       [[6, 5, 1, 6],\n",
       "        [6, 5, 3, 6],\n",
       "        [5, 6, 6, 6]],\n",
       "\n",
       "       [[5, 3, 6, 5],\n",
       "        [6, 3, 4, 7],\n",
       "        [6, 7, 6, 5]],\n",
       "\n",
       "       [[6, 7, 5, 6],\n",
       "        [3, 5, 6, 4],\n",
       "        [4, 4, 4, 4]],\n",
       "\n",
       "       [[5, 7, 5, 4],\n",
       "        [3, 6, 5, 6],\n",
       "        [6, 6, 4, 6]],\n",
       "\n",
       "       [[4, 7, 6, 4],\n",
       "        [4, 4, 6, 4],\n",
       "        [5, 4, 6, 6]]])"
      ]
     },
     "execution_count": 99,
     "metadata": {},
     "output_type": "execute_result"
    }
   ],
   "source": [
    "# Enter code:\n",
    "\n",
    "n, p = 10, 0.5\n",
    "\n",
    "np.random.binomial(n, p, (20, 3,4))"
   ]
  },
  {
   "cell_type": "markdown",
   "metadata": {},
   "source": [
    "# More complex data\n",
    "\n",
    "This dataset contains sample from three different plants.\n",
    "Each sample has 4 attributes (floats), stored in X, and a class / plant index, stored in y.\n",
    "\n",
    "The attributes in X are:\n",
    "- sepal length in cm\n",
    "- sepal width in cm\n",
    "- petal length in cm\n",
    "- petal width in cm\n",
    "\n",
    "The classes in y refer to:\n",
    "0: Iris-Setosa\n",
    "1: Iris-Versicolour\n",
    "2: Iris-Virginica"
   ]
  },
  {
   "cell_type": "code",
   "execution_count": 88,
   "metadata": {
    "pycharm": {
     "is_executing": true
    }
   },
   "outputs": [],
   "source": [
    "from sklearn.datasets import load_iris\n",
    "\n",
    "X, y = load_iris(as_frame=False, return_X_y=True)"
   ]
  },
  {
   "cell_type": "markdown",
   "metadata": {},
   "source": [
    "Describe the data.\n",
    "\n",
    "Start with counting the number of samples per class (plant index)."
   ]
  },
  {
   "cell_type": "code",
   "execution_count": 113,
   "metadata": {
    "pycharm": {
     "is_executing": true
    }
   },
   "outputs": [],
   "source": [
    "# Enter code:"
   ]
  },
  {
   "cell_type": "markdown",
   "metadata": {},
   "source": [
    "Summarize the attribute distributions of all 3 classes, e.g. compute means etc."
   ]
  },
  {
   "cell_type": "code",
   "execution_count": 104,
   "metadata": {
    "pycharm": {
     "is_executing": true
    }
   },
   "outputs": [
    {
     "data": {
      "text/plain": [
       "5.843333333333334"
      ]
     },
     "execution_count": 104,
     "metadata": {},
     "output_type": "execute_result"
    }
   ],
   "source": [
    "# Enter code:\n",
    "np.mean(X[:, 0])"
   ]
  },
  {
   "cell_type": "code",
   "execution_count": 105,
   "metadata": {},
   "outputs": [
    {
     "data": {
      "text/plain": [
       "3.0573333333333337"
      ]
     },
     "execution_count": 105,
     "metadata": {},
     "output_type": "execute_result"
    }
   ],
   "source": [
    "np.mean(X[:, 1])"
   ]
  },
  {
   "cell_type": "code",
   "execution_count": 106,
   "metadata": {},
   "outputs": [
    {
     "data": {
      "text/plain": [
       "3.7580000000000005"
      ]
     },
     "execution_count": 106,
     "metadata": {},
     "output_type": "execute_result"
    }
   ],
   "source": [
    "np.mean(X[:, 2])"
   ]
  },
  {
   "cell_type": "code",
   "execution_count": 107,
   "metadata": {},
   "outputs": [
    {
     "data": {
      "text/plain": [
       "1.1993333333333336"
      ]
     },
     "execution_count": 107,
     "metadata": {},
     "output_type": "execute_result"
    }
   ],
   "source": [
    "np.mean(X[:, 3])"
   ]
  },
  {
   "cell_type": "markdown",
   "metadata": {},
   "source": [
    "# Advanced"
   ]
  },
  {
   "cell_type": "markdown",
   "metadata": {},
   "source": [
    "Define a function that generates an array of unsigned integers between 0 and 10 of size=(50, 100), i.e. 50 rows and 100 columns"
   ]
  },
  {
   "cell_type": "code",
   "execution_count": 7,
   "metadata": {},
   "outputs": [],
   "source": [
    "# Enter code:\n",
    "def sample_test_arr():\n",
    "    test_arr = np.arange(None # TODO: implement\n",
    "    return test_arr"
   ]
  },
  {
   "cell_type": "code",
   "execution_count": 116,
   "metadata": {},
   "outputs": [
    {
     "data": {
      "text/plain": [
       "array([0, 1, 2, 3, 4, 5, 6, 7, 8, 9])"
      ]
     },
     "execution_count": 116,
     "metadata": {},
     "output_type": "execute_result"
    }
   ],
   "source": [
    "np.arange(10)"
   ]
  },
  {
   "cell_type": "markdown",
   "metadata": {},
   "source": [
    "Implement the following function that finds all rows in this array containing any number at least x times, where x is an integer parameter.\n",
    "The array itself should also be a parameter.\n",
    "The return value is an again a 2d array with same dtype, same number of rows, but with potentially fewer columns.\n",
    "\n",
    "Test the function on the test_arr defined above.\n",
    "\n",
    "For example, if x=3:\n",
    "- [0, 1, 1, 2, 1, 3, 4] would be included.\n",
    "- [0, 1, 2, 2, 1, 3, 1] would be included.\n",
    "- [0, 1, 2, 2, 1, 3, 3] would not be included.\n",
    "\n",
    "Make sure no error is raised and the returned shape and data-type is always correct."
   ]
  },
  {
   "cell_type": "code",
   "execution_count": 8,
   "metadata": {},
   "outputs": [
    {
     "ename": "AttributeError",
     "evalue": "'NoneType' object has no attribute 'shape'",
     "output_type": "error",
     "traceback": [
      "\u001b[1;31m---------------------------------------------------------------------------\u001b[0m",
      "\u001b[1;31mAttributeError\u001b[0m                            Traceback (most recent call last)",
      "Cell \u001b[1;32mIn[8], line 7\u001b[0m\n\u001b[0;32m      4\u001b[0m     \u001b[38;5;28;01mreturn\u001b[39;00m rows\n\u001b[0;32m      6\u001b[0m test_arr \u001b[38;5;241m=\u001b[39m sample_test_arr()\n\u001b[1;32m----> 7\u001b[0m \u001b[38;5;28mprint\u001b[39m(\u001b[43mfind_all_rows_with_n_reps\u001b[49m\u001b[43m(\u001b[49m\u001b[43marr\u001b[49m\u001b[38;5;241;43m=\u001b[39;49m\u001b[43mtest_arr\u001b[49m\u001b[43m,\u001b[49m\u001b[43m \u001b[49m\u001b[43mx\u001b[49m\u001b[38;5;241;43m=\u001b[39;49m\u001b[38;5;241;43m5\u001b[39;49m\u001b[43m)\u001b[49m\u001b[38;5;241;43m.\u001b[39;49m\u001b[43mshape\u001b[49m)\n\u001b[0;32m      8\u001b[0m \u001b[38;5;28mprint\u001b[39m(find_all_rows_with_n_reps(arr\u001b[38;5;241m=\u001b[39mtest_arr, x\u001b[38;5;241m=\u001b[39m\u001b[38;5;241m15\u001b[39m)\u001b[38;5;241m.\u001b[39mshape)\n\u001b[0;32m      9\u001b[0m \u001b[38;5;28mprint\u001b[39m(find_all_rows_with_n_reps(arr\u001b[38;5;241m=\u001b[39mtest_arr, x\u001b[38;5;241m=\u001b[39m\u001b[38;5;241m30\u001b[39m)\u001b[38;5;241m.\u001b[39mshape)\n",
      "\u001b[1;31mAttributeError\u001b[0m: 'NoneType' object has no attribute 'shape'"
     ]
    }
   ],
   "source": [
    "def find_all_rows_with_n_reps(arr, x):\n",
    "    # TODO: Implement\n",
    "    rows = None\n",
    "    return rows\n",
    "\n",
    "test_arr = sample_test_arr()\n",
    "print(find_all_rows_with_n_reps(arr=test_arr, x=5).shape)\n",
    "print(find_all_rows_with_n_reps(arr=test_arr, x=15).shape)\n",
    "print(find_all_rows_with_n_reps(arr=test_arr, x=30).shape)"
   ]
  },
  {
   "cell_type": "markdown",
   "metadata": {},
   "source": [
    "Additional task:\n",
    "\n",
    "- Write a doc-string for the function find_all_rows_with_n_reps."
   ]
  },
  {
   "cell_type": "markdown",
   "metadata": {},
   "source": [
    "'Reimplement the function again, but now the repetitions must happen consecutively in each row.\n",
    "\n",
    "For example, if x=3:\n",
    "- [0, 1, 1, 2, 1, 3, 4] would be included.\n",
    "- [0, 1, 2, 2, 1, 3, 1] would not be included.\n",
    "- [0, 1, 2, 2, 1, 3, 3] would not be included.\n",
    "\n",
    "Test the function on the test_arr defined above."
   ]
  },
  {
   "cell_type": "code",
   "execution_count": 17,
   "metadata": {},
   "outputs": [
    {
     "ename": "AttributeError",
     "evalue": "'NoneType' object has no attribute 'shape'",
     "output_type": "error",
     "traceback": [
      "\u001b[1;31m---------------------------------------------------------------------------\u001b[0m",
      "\u001b[1;31mAttributeError\u001b[0m                            Traceback (most recent call last)",
      "Cell \u001b[1;32mIn[17], line 7\u001b[0m\n\u001b[0;32m      4\u001b[0m     \u001b[38;5;28;01mreturn\u001b[39;00m rows\n\u001b[0;32m      6\u001b[0m test_arr \u001b[38;5;241m=\u001b[39m sample_test_arr()\n\u001b[1;32m----> 7\u001b[0m \u001b[38;5;28mprint\u001b[39m(\u001b[43mfind_all_rows_with_n_consecutive_reps\u001b[49m\u001b[43m(\u001b[49m\u001b[43marr\u001b[49m\u001b[38;5;241;43m=\u001b[39;49m\u001b[43mtest_arr\u001b[49m\u001b[43m,\u001b[49m\u001b[43m \u001b[49m\u001b[43mx\u001b[49m\u001b[38;5;241;43m=\u001b[39;49m\u001b[38;5;241;43m1\u001b[39;49m\u001b[43m)\u001b[49m\u001b[38;5;241;43m.\u001b[39;49m\u001b[43mshape\u001b[49m)\n\u001b[0;32m      8\u001b[0m \u001b[38;5;28mprint\u001b[39m(find_all_rows_with_n_consecutive_reps(arr\u001b[38;5;241m=\u001b[39mtest_arr, x\u001b[38;5;241m=\u001b[39m\u001b[38;5;241m2\u001b[39m)\u001b[38;5;241m.\u001b[39mshape)\n\u001b[0;32m      9\u001b[0m \u001b[38;5;28mprint\u001b[39m(find_all_rows_with_n_consecutive_reps(arr\u001b[38;5;241m=\u001b[39mtest_arr, x\u001b[38;5;241m=\u001b[39m\u001b[38;5;241m4\u001b[39m)\u001b[38;5;241m.\u001b[39mshape)\n",
      "\u001b[1;31mAttributeError\u001b[0m: 'NoneType' object has no attribute 'shape'"
     ]
    }
   ],
   "source": [
    "def find_all_rows_with_n_consecutive_reps(arr, x):\n",
    "    # TODO: Implement\n",
    "    rows = None\n",
    "    return rows\n",
    "\n",
    "test_arr = sample_test_arr()\n",
    "print(find_all_rows_with_n_consecutive_reps(arr=test_arr, x=1).shape)\n",
    "print(find_all_rows_with_n_consecutive_reps(arr=test_arr, x=2).shape)\n",
    "print(find_all_rows_with_n_consecutive_reps(arr=test_arr, x=4).shape)\n",
    "print(find_all_rows_with_n_consecutive_reps(arr=test_arr, x=10).shape)"
   ]
  },
  {
   "cell_type": "markdown",
   "metadata": {},
   "source": [
    "For x in {2, 4, 20}, compute the mean number of rows returned for both \"find_all_rows_with_n_reps\" and \"find_all_rows_with_n_consecutive_reps\".\n",
    "Draw a new sample array each time you evaluate the number of rows.\n",
    "Select an appropriate sample size."
   ]
  },
  {
   "cell_type": "code",
   "execution_count": 18,
   "metadata": {},
   "outputs": [],
   "source": [
    "# Enter code:"
   ]
  },
  {
   "cell_type": "markdown",
   "metadata": {},
   "source": [
    "# Very advanced (Optional)\n",
    "\n",
    "First, read all tasks in this section!\n",
    "\n",
    "\n",
    "Implement the Hodgkin-Huxley model in numpy. Parameters and equations can be found here:\n",
    "[https://neuronaldynamics.epfl.ch/online/Ch2.S2.html]()"
   ]
  },
  {
   "cell_type": "code",
   "execution_count": 27,
   "metadata": {},
   "outputs": [],
   "source": [
    "# Enter code:"
   ]
  },
  {
   "cell_type": "markdown",
   "metadata": {},
   "source": [
    "Implement the forward Euler method, e.g. described here [https://en.wikipedia.org/wiki/Euler_method]() as a function that can be used to simulate the HH neuron model described above."
   ]
  },
  {
   "cell_type": "code",
   "execution_count": 28,
   "metadata": {},
   "outputs": [],
   "source": [
    "# Enter code:"
   ]
  },
  {
   "cell_type": "markdown",
   "metadata": {},
   "source": [
    "Simulate the response of the HH model to a step stimulus using your implementation of the FE method."
   ]
  },
  {
   "cell_type": "code",
   "execution_count": 29,
   "metadata": {},
   "outputs": [],
   "source": [
    "# Enter code:"
   ]
  },
  {
   "cell_type": "code",
   "execution_count": null,
   "metadata": {},
   "outputs": [],
   "source": []
  }
 ],
 "metadata": {
  "kernelspec": {
   "display_name": "Python 3",
   "language": "python",
   "name": "python3"
  },
  "language_info": {
   "codemirror_mode": {
    "name": "ipython",
    "version": 3
   },
   "file_extension": ".py",
   "mimetype": "text/x-python",
   "name": "python",
   "nbconvert_exporter": "python",
   "pygments_lexer": "ipython3",
   "version": "3.8.8"
  }
 },
 "nbformat": 4,
 "nbformat_minor": 1
}

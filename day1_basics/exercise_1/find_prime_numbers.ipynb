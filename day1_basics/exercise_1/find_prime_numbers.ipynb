{
 "cells": [
  {
   "cell_type": "markdown",
   "id": "55f84db4",
   "metadata": {},
   "source": [
    "### Task: list all the prime number from 1 to 100."
   ]
  },
  {
   "cell_type": "markdown",
   "id": "5b919f53",
   "metadata": {},
   "source": [
    "#### tipps\n",
    "\n",
    "1. Google is your friend\n",
    "2. avoid \"copy&past\"\n",
    "3. key question - \"How is a prime number define\"\n",
    "4. key quesiton - \"How can one translate the definition above from human-language to a program-language?\""
   ]
  },
  {
   "cell_type": "code",
   "execution_count": 1,
   "id": "c3303880",
   "metadata": {},
   "outputs": [],
   "source": [
    "# I will start you off easy"
   ]
  },
  {
   "cell_type": "code",
   "execution_count": 1,
   "id": "230912e7",
   "metadata": {},
   "outputs": [],
   "source": [
    "# create a list of nature number from 1 to 100\n",
    "candidates = [each for each in range(101)]"
   ]
  },
  {
   "cell_type": "markdown",
   "id": "30cda7c0",
   "metadata": {},
   "source": [
    "#### fun facts:\n",
    "1. range(101) is the same as range(0,101)\n",
    "2. range(a,b) will include a, but not b (e.g. a more mathematical expression [a,b))"
   ]
  },
  {
   "cell_type": "code",
   "execution_count": 14,
   "id": "d30c62c0",
   "metadata": {},
   "outputs": [],
   "source": [
    "# an empty list to add prime number only\n",
    "primes = []"
   ]
  },
  {
   "cell_type": "code",
   "execution_count": 17,
   "id": "733d102c",
   "metadata": {},
   "outputs": [],
   "source": [
    "## iterate through from 1 to 100\n",
    "for i in candidates:\n",
    "    x=0\n",
    "    for j in range(1, i):\n",
    "        if i % j == 0:\n",
    "            x+=1\n",
    "    if x==1:\n",
    "        primes.append(i)\n",
    " "
   ]
  },
  {
   "cell_type": "code",
   "execution_count": 18,
   "id": "7a93f6a1",
   "metadata": {},
   "outputs": [
    {
     "name": "stdout",
     "output_type": "stream",
     "text": [
      "[2, 3, 5, 7, 11, 13, 17, 19, 23, 29, 31, 37, 41, 43, 47, 53, 59, 61, 67, 71, 73, 79, 83, 89, 97]\n"
     ]
    }
   ],
   "source": [
    "# show the result\n",
    "print(primes)"
   ]
  },
  {
   "cell_type": "code",
   "execution_count": null,
   "id": "6f6457a7",
   "metadata": {},
   "outputs": [],
   "source": []
  }
 ],
 "metadata": {
  "kernelspec": {
   "display_name": "Python 3",
   "language": "python",
   "name": "python3"
  },
  "language_info": {
   "codemirror_mode": {
    "name": "ipython",
    "version": 3
   },
   "file_extension": ".py",
   "mimetype": "text/x-python",
   "name": "python",
   "nbconvert_exporter": "python",
   "pygments_lexer": "ipython3",
   "version": "3.8.8"
  }
 },
 "nbformat": 4,
 "nbformat_minor": 5
}

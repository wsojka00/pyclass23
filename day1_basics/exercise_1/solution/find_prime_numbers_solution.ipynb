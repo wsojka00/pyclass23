{
 "cells": [
  {
   "cell_type": "markdown",
   "id": "34980184",
   "metadata": {},
   "source": [
    "## find prime numbers between 1 ~ 100"
   ]
  },
  {
   "cell_type": "code",
   "execution_count": 1,
   "id": "9f01f3e3",
   "metadata": {},
   "outputs": [],
   "source": [
    "### ChatGPT find prime numbers"
   ]
  },
  {
   "cell_type": "code",
   "execution_count": 71,
   "id": "276d06ab",
   "metadata": {},
   "outputs": [
    {
     "name": "stdout",
     "output_type": "stream",
     "text": [
      "[2, 3, 5, 7, 11, 13, 17, 19, 23, 29, 31, 37, 41, 43, 47, 53, 59, 61, 67, 71, 73, 79, 83, 89, 97] 25\n"
     ]
    }
   ],
   "source": [
    "def is_prime_1(num):\n",
    "    \"\"\"\n",
    "    Helper function to determine if a number is prime or not.\n",
    "    \"\"\"\n",
    "    if num < 2:\n",
    "        return False\n",
    "    for i in range(2, int(num**0.5) + 1):\n",
    "        if num % i == 0:\n",
    "            return False\n",
    "    return True\n",
    "\n",
    "# Generate prime numbers from 1 to 100\n",
    "primes = []\n",
    "for num in range(1, 101):\n",
    "    if is_prime_1(num):\n",
    "        primes.append(num)\n",
    "\n",
    "# Print the list of prime numbers\n",
    "print(primes,len(primes))"
   ]
  },
  {
   "cell_type": "code",
   "execution_count": 3,
   "id": "13848fae",
   "metadata": {},
   "outputs": [],
   "source": [
    "### ChatGPT find prime numbers 2"
   ]
  },
  {
   "cell_type": "code",
   "execution_count": 90,
   "id": "ef9c1e38",
   "metadata": {},
   "outputs": [
    {
     "name": "stdout",
     "output_type": "stream",
     "text": [
      "Prime numbers between 1 and 100 are:\n",
      "[2, 3, 5, 7, 11, 13, 17, 19, 23, 29, 31, 37, 41, 43, 47, 53, 59, 61, 67, 71, 73, 79, 83, 89, 97] 25\n"
     ]
    }
   ],
   "source": [
    "# Function to check if a number is prime\n",
    "def is_prime_2(num):\n",
    "    # 0 and 1 are not prime numbers\n",
    "    if num < 2:\n",
    "        return False\n",
    "    # Check for factors from 2 to num-1\n",
    "    for i in range(2, num):\n",
    "        if num % i == 0:\n",
    "            return False\n",
    "    return True\n",
    "\n",
    "# Find all prime numbers between 1 and 100\n",
    "primes = []\n",
    "for i in range(2, 101):\n",
    "    if is_prime_2(i):\n",
    "        primes.append(i)\n",
    "\n",
    "# Print the prime numbers\n",
    "print(\"Prime numbers between 1 and 100 are:\")\n",
    "print(primes,len(primes))"
   ]
  },
  {
   "cell_type": "code",
   "execution_count": 7,
   "id": "69f35f84",
   "metadata": {},
   "outputs": [],
   "source": [
    "### ChatGPT for-loops"
   ]
  },
  {
   "cell_type": "code",
   "execution_count": 62,
   "id": "770b45be",
   "metadata": {},
   "outputs": [
    {
     "name": "stdout",
     "output_type": "stream",
     "text": [
      "Prime numbers between 1 and 100 are:\n",
      "[2, 3, 5, 7, 11, 13, 17, 19, 23, 29, 31, 37, 41, 43, 47, 53, 59, 61, 67, 71, 73, 79, 83, 89, 97] 25\n"
     ]
    }
   ],
   "source": [
    "primes = []\n",
    "for num in range(1,101):  # Loop through numbers 1 to 100\n",
    "    if num > 1:  # Prime numbers are greater than 1\n",
    "        for i in range(2,num):  # Loop through possible factors\n",
    "            if (num % i) == 0:  # If num is divisible by any factor, it's not prime\n",
    "                break  # Exit loop\n",
    "        else:  # If num is not divisible by any factor, it's prime\n",
    "            primes.append(num)\n",
    "\n",
    "# Print the prime numbers\n",
    "print(\"Prime numbers between 1 and 100 are:\")\n",
    "print(primes,len(primes))"
   ]
  },
  {
   "cell_type": "code",
   "execution_count": 10,
   "id": "d338d7a7",
   "metadata": {},
   "outputs": [],
   "source": [
    "### ChatGPT Fermat-test"
   ]
  },
  {
   "cell_type": "code",
   "execution_count": 74,
   "id": "8933cd49",
   "metadata": {},
   "outputs": [
    {
     "name": "stdout",
     "output_type": "stream",
     "text": [
      "Prime numbers between 1 and 100 are:\n",
      "[2, 3, 5, 7, 11, 13, 17, 19, 23, 29, 31, 37, 41, 43, 47, 53, 59, 61, 67, 71, 73, 79, 83, 89, 97] 25\n"
     ]
    }
   ],
   "source": [
    "import random\n",
    "\n",
    "def fermat_prime_1(n, k=5):\n",
    "    if n <= 1 or n == 4:\n",
    "        return False\n",
    "    if n <= 3:\n",
    "        return True\n",
    "    for i in range(k):\n",
    "        a = random.randint(2, n-2)\n",
    "        if pow(a, n-1, n) != 1:\n",
    "            return False\n",
    "    return True\n",
    "\n",
    "primes = []\n",
    "for num in range(1, 101):\n",
    "    if fermat_prime_1(num):\n",
    "        primes.append(num)\n",
    "\n",
    "# Print the prime numbers\n",
    "print(\"Prime numbers between 1 and 100 are:\")\n",
    "print(primes,len(primes))"
   ]
  },
  {
   "cell_type": "code",
   "execution_count": 75,
   "id": "8ccc0b1d",
   "metadata": {},
   "outputs": [],
   "source": [
    "### ChatGPT Fermat-test 2"
   ]
  },
  {
   "cell_type": "code",
   "execution_count": 76,
   "id": "12b16885",
   "metadata": {},
   "outputs": [
    {
     "name": "stdout",
     "output_type": "stream",
     "text": [
      "Prime numbers between 1 and 100 are:\n",
      "[2, 3, 5, 7, 11, 13, 17, 19, 21, 23, 29, 31, 37, 41, 43, 47, 53, 59, 61, 67, 71, 73, 79, 83, 89, 97] 26\n"
     ]
    }
   ],
   "source": [
    "import random\n",
    "def fermat_prime_2(n):\n",
    "    # Choose a random number between 2 and n-1\n",
    "    if n==2:\n",
    "        return True\n",
    "    else:\n",
    "        a = random.randint(2, n-1) # could be optimized\n",
    "        # Check if a^(n-1) mod n is equal to 1\n",
    "        if pow(a, n-1, n) == 1:\n",
    "            return True  # n may be prime\n",
    "        else:\n",
    "            return False  # n is definitely composite\n",
    "primes = []\n",
    "for num in range(1, 101):\n",
    "    if num > 1:\n",
    "        if fermat_prime_2(num):\n",
    "            primes.append(num)\n",
    "\n",
    "\n",
    "print(\"Prime numbers between 1 and 100 are:\")\n",
    "print(primes,len(primes))       "
   ]
  },
  {
   "cell_type": "code",
   "execution_count": 77,
   "id": "c1abc27a",
   "metadata": {},
   "outputs": [],
   "source": [
    "### ChatGPT Fermat-test 3, optimized"
   ]
  },
  {
   "cell_type": "code",
   "execution_count": 78,
   "id": "4d477e76",
   "metadata": {},
   "outputs": [
    {
     "name": "stdout",
     "output_type": "stream",
     "text": [
      "Prime numbers between 1 and 100 are:\n",
      "[2, 3, 5, 7, 11, 13, 17, 19, 23, 29, 31, 37, 41, 43, 47, 53, 59, 61, 67, 71, 73, 79, 83, 89, 97, 101, 103, 107, 109, 113, 127, 131, 137, 139, 149, 151, 157, 163, 167, 173, 179, 181, 191, 193, 197, 199, 211, 223, 227, 229, 233, 239, 241, 251, 257, 263, 269, 271, 277, 281, 283, 293, 307, 311, 313, 317, 331, 337, 347, 349, 353, 359, 367, 373, 379, 383, 389, 397, 401, 409, 419, 421, 431, 433, 439, 443, 449, 457, 461, 463, 467, 479, 487, 491, 499, 503, 509, 521, 523, 541, 547, 557, 563, 569, 571, 577, 587, 593, 599, 601, 607, 613, 617, 619, 631, 641, 643, 647, 653, 659, 661, 673, 677, 683, 691, 701, 709, 719, 727, 733, 739, 743, 751, 757, 761, 769, 773, 787, 797, 809, 811, 821, 823, 827, 829, 839, 853, 857, 859, 863, 877, 881, 883, 887, 907, 911, 919, 929, 937, 941, 947, 953, 967, 971, 977, 983, 991, 997] 168\n"
     ]
    }
   ],
   "source": [
    "import random\n",
    "\n",
    "def fermat_prime_3(n):\n",
    "    \"\"\"Fermat primality test\"\"\"\n",
    "    if n <= 1:\n",
    "        return False\n",
    "    elif n <= 3:\n",
    "        return True\n",
    "    else:\n",
    "        # Perform Fermat test with 10 random bases (optimized)\n",
    "        for i in range(10):\n",
    "            a = random.randint(2, n-2)\n",
    "            if pow(a, n-1, n) != 1:\n",
    "                return False\n",
    "        return True\n",
    "\n",
    "primes = []\n",
    "for num in range(1, 1001):\n",
    "    if num > 1:\n",
    "        if fermat_prime_3(num):\n",
    "            primes.append(num)\n",
    "\n",
    "\n",
    "print(\"Prime numbers between 1 and 100 are:\")\n",
    "print(primes,len(primes)) "
   ]
  },
  {
   "cell_type": "code",
   "execution_count": 79,
   "id": "63f66481",
   "metadata": {
    "scrolled": true
   },
   "outputs": [
    {
     "name": "stdout",
     "output_type": "stream",
     "text": [
      "Prime numbers between 1 and 100 are:\n",
      "[2, 3, 5, 7, 11, 13, 17, 19, 23, 29, 31, 37, 41, 43, 47, 53, 59, 61, 67, 71, 73, 79, 83, 89, 97] 25\n"
     ]
    }
   ],
   "source": [
    "import random\n",
    "\n",
    "def fermat_prime_4(n, k=5):\n",
    "    \"\"\"Fermat primality test\"\"\"\n",
    "    if n <= 1:\n",
    "        return False\n",
    "    elif n == 2:\n",
    "        return True\n",
    "    else:\n",
    "        for i in range(k):\n",
    "            a = random.randint(1, n-1)\n",
    "            if pow(a, n-1, n) != 1:\n",
    "                return False\n",
    "        return True\n",
    "\n",
    "primes = []\n",
    "for num in range(1, 101):\n",
    "    if num > 1:\n",
    "        if fermat_prime_4(num):\n",
    "            primes.append(num)\n",
    "\n",
    "\n",
    "print(\"Prime numbers between 1 and 100 are:\")\n",
    "print(primes,len(primes)) "
   ]
  },
  {
   "cell_type": "code",
   "execution_count": 80,
   "id": "7b96e90c",
   "metadata": {},
   "outputs": [],
   "source": [
    "### ChatGPT Miller-Rabin-test"
   ]
  },
  {
   "cell_type": "code",
   "execution_count": 3,
   "id": "41101bef",
   "metadata": {},
   "outputs": [
    {
     "name": "stdout",
     "output_type": "stream",
     "text": [
      "Prime numbers between 1 and 100 are:\n",
      "[2, 3, 5, 7, 11, 13, 17, 19, 23, 29, 31, 37, 41, 43, 47, 53, 59, 61, 67, 71, 73, 79, 83, 89, 97] 25\n"
     ]
    }
   ],
   "source": [
    "import random\n",
    "\n",
    "def miller_rabin_prime_test(n, k=10):\n",
    "    \"\"\"Miller-Rabin primality test\"\"\"\n",
    "    if n <= 1:\n",
    "        return False\n",
    "    elif n == 2 or n == 3:\n",
    "        return True\n",
    "    elif n % 2 == 0:\n",
    "        return False\n",
    "\n",
    "    # Write n-1 as 2^r * d\n",
    "    d = n - 1\n",
    "    r = 0\n",
    "    while d % 2 == 0:\n",
    "        d //= 2\n",
    "        r += 1\n",
    "\n",
    "    # Run k iterations of the Miller-Rabin test\n",
    "    for i in range(k):\n",
    "        a = random.randint(2, n-2)\n",
    "        x = pow(a, d, n)\n",
    "        if x == 1 or x == n-1:\n",
    "            continue\n",
    "        for j in range(r-1):\n",
    "            x = pow(x, 2, n)\n",
    "            if x == n-1:\n",
    "                break\n",
    "        else:\n",
    "            return False\n",
    "\n",
    "    return True\n",
    "\n",
    "primes = []\n",
    "for num in range(1, 101):\n",
    "    if num > 1:\n",
    "        if miller_rabin_prime_test(num):\n",
    "            primes.append(num)\n",
    "\n",
    "\n",
    "print(\"Prime numbers between 1 and 100 are:\")\n",
    "print(primes,len(primes)) "
   ]
  },
  {
   "cell_type": "code",
   "execution_count": 82,
   "id": "e0db27d9",
   "metadata": {},
   "outputs": [
    {
     "data": {
      "text/plain": [
       "False"
      ]
     },
     "execution_count": 82,
     "metadata": {},
     "output_type": "execute_result"
    }
   ],
   "source": [
    "miller_rabin_prime_test(561)"
   ]
  },
  {
   "cell_type": "code",
   "execution_count": 83,
   "id": "2d7f4035",
   "metadata": {},
   "outputs": [
    {
     "data": {
      "text/plain": [
       "False"
      ]
     },
     "execution_count": 83,
     "metadata": {},
     "output_type": "execute_result"
    }
   ],
   "source": [
    "fermat_prime_1(561)"
   ]
  },
  {
   "cell_type": "code",
   "execution_count": 87,
   "id": "d9afa34b",
   "metadata": {},
   "outputs": [
    {
     "data": {
      "text/plain": [
       "True"
      ]
     },
     "execution_count": 87,
     "metadata": {},
     "output_type": "execute_result"
    }
   ],
   "source": [
    "fermat_prime_2(561)"
   ]
  },
  {
   "cell_type": "code",
   "execution_count": 85,
   "id": "b50a883b",
   "metadata": {},
   "outputs": [
    {
     "data": {
      "text/plain": [
       "False"
      ]
     },
     "execution_count": 85,
     "metadata": {},
     "output_type": "execute_result"
    }
   ],
   "source": [
    "fermat_prime_3(561)"
   ]
  },
  {
   "cell_type": "code",
   "execution_count": 86,
   "id": "980c008f",
   "metadata": {},
   "outputs": [
    {
     "data": {
      "text/plain": [
       "False"
      ]
     },
     "execution_count": 86,
     "metadata": {},
     "output_type": "execute_result"
    }
   ],
   "source": [
    "fermat_prime_4(561)"
   ]
  },
  {
   "cell_type": "code",
   "execution_count": 88,
   "id": "affed6b7",
   "metadata": {},
   "outputs": [
    {
     "data": {
      "text/plain": [
       "False"
      ]
     },
     "execution_count": 88,
     "metadata": {},
     "output_type": "execute_result"
    }
   ],
   "source": [
    "is_prime_1(561)"
   ]
  },
  {
   "cell_type": "code",
   "execution_count": 91,
   "id": "4f60dd81",
   "metadata": {},
   "outputs": [
    {
     "data": {
      "text/plain": [
       "False"
      ]
     },
     "execution_count": 91,
     "metadata": {},
     "output_type": "execute_result"
    }
   ],
   "source": [
    "is_prime_2(561)"
   ]
  },
  {
   "cell_type": "code",
   "execution_count": 4,
   "id": "5abdf7ac",
   "metadata": {},
   "outputs": [
    {
     "name": "stdout",
     "output_type": "stream",
     "text": [
      "Prime numbers between 1 and 100 are:\n",
      "[101, 103, 107, 109, 113, 127, 131, 137, 139, 149, 151, 157, 163, 167, 173, 179, 181, 191, 193, 197, 199, 211, 223, 227, 229, 233, 239, 241, 251, 257, 263, 269, 271, 277, 281, 283, 293, 307, 311, 313, 317, 331, 337, 347, 349, 353, 359, 367, 373, 379, 383, 389, 397, 401, 409, 419, 421, 431, 433, 439, 443, 449, 457, 461, 463, 467, 479, 487, 491, 499, 503, 509, 521, 523, 541, 547, 557, 563, 569, 571, 577, 587, 593, 599, 601, 607, 613, 617, 619, 631, 641, 643, 647, 653, 659, 661, 673, 677, 683, 691, 701, 709, 719, 727, 733, 739, 743, 751, 757, 761, 769, 773, 787, 797, 809, 811, 821, 823, 827, 829, 839, 853, 857, 859, 863, 877, 881, 883, 887, 907, 911, 919, 929, 937, 941, 947, 953, 967, 971, 977, 983, 991, 997] 143\n"
     ]
    }
   ],
   "source": [
    "primes = []\n",
    "for num in range(100, 1000):\n",
    "    if num > 1:\n",
    "        if miller_rabin_prime_test(num):\n",
    "            primes.append(num)\n",
    "\n",
    "\n",
    "print(\"Prime numbers between 1 and 100 are:\")\n",
    "print(primes,len(primes)) "
   ]
  },
  {
   "cell_type": "code",
   "execution_count": null,
   "id": "b0b23485",
   "metadata": {},
   "outputs": [],
   "source": []
  }
 ],
 "metadata": {
  "kernelspec": {
   "display_name": "Python 3",
   "language": "python",
   "name": "python3"
  },
  "language_info": {
   "codemirror_mode": {
    "name": "ipython",
    "version": 3
   },
   "file_extension": ".py",
   "mimetype": "text/x-python",
   "name": "python",
   "nbconvert_exporter": "python",
   "pygments_lexer": "ipython3",
   "version": "3.9.13"
  }
 },
 "nbformat": 4,
 "nbformat_minor": 5
}

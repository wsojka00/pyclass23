{
 "cells": [
  {
   "cell_type": "markdown",
   "metadata": {},
   "source": [
    "# Lecture Basics 1\n",
    "\n",
    "- Why Python?  \n",
    "- Getting ready, distributions, installation (Anaconda)  \n",
    "- Setting up / configuring Python environments  \n",
    "- Interacting with Python\n",
    "- Jupyter notebook"
   ]
  },
  {
   "cell_type": "markdown",
   "metadata": {},
   "source": [
    "---\n",
    "## Introduction\n",
    "\n",
    "New challenges for data processing and analysis in neuroscience (e.g. handling large amounts of data from several GBs to even TBs from population imaging or large-scale EM reconstructions; appropriate statistical analysis, e.g. with new anatomical methods; increasing data analysis quality required for publications, needs for documenting data analysis in presentations and publications, …)\n",
    "\n",
    "Every (neuro)scientist should be able to understand, modify and write (at least simple) data analysis scripts, even if this only leads to increased awareness of data analysis needs and contacting other scientists with the relevant expertise.\n",
    "\n",
    "\n",
    "### The goals of this course:\n",
    "\n",
    "- to learn using and programming Python for data analysis. This includes data import, handling, organization, analysis and visualization\n",
    "- to use the different “incarnations/distributions” of Python depending on the task at hand (i.e. Python in a shell, spyder as a standard programming environment, iPython)\n",
    "- to learn to “play” with data by rapid prototyping of analysis scripts\n",
    "- to get students and postdocs to write their own scripts\n",
    "\n",
    "### Why Python?\n",
    "\n",
    "_“Python is a widely used high-level, general-purpose, interpreted, dynamic programming language. Its design philosophy emphasizes code readability, and its syntax allows programmers to express concepts in fewer lines of code than possible in languages such as C++ or Java. The language provides constructs intended to enable writing clear programs on both a small and large scale.”_ - Wikipedia\n",
    "\n",
    "_“Python was conceived in the late 1980s, and its implementation began in December 1989 by __Guido van Rossum__ at Centrum Wiskunde & Informatica (CWI) in the Netherlands as a successor to the ABC language (itself inspired by SETL) capable of exception handling and interfacing with the operating system Amoeba. Van Rossum is Python's principal author, and his continuing central role in deciding the direction of Python is reflected in the title given to him by the Python community, benevolent dictator for life (BDFL).”_ - Wikipedia\n",
    "\n",
    "Guido van Rossum wrote in 1996: _“I chose Python as a working title for the project, being in a slightly irreverent mood (and a big fan of Monty Python's Flying Circus).”_\n",
    "\n",
    "Other analysis packages: \n",
    "- Matlab (Mathworks)\n",
    "- Origin (Microcal)\n",
    "- Mathematica\n",
    "- Octave, R\n",
    "- IgorPro\n",
    "\n",
    "Your choice dependts on target application, lab environment but is also largely a matter of taste.\n",
    "\n",
    "Some pros ...\n",
    "- (+) very logical, well-designed and powerful language  \n",
    "- (+) supports functional (procedural) style but also object-orientation (classes)  \n",
    "- (+) largely intuitive use, easy to learn, at least up to a certain level  \n",
    "- (+) highly interactive but also applications with GUI are possible   \n",
    "- (+) normally for free (sort of open source) \n",
    "- (+) modules and libraries are available for almost everything (often public domain)\n",
    "- (+) large and very active user base \n",
    "- (+) scripts run on both Windows or Linux PCs and Macs almost w/o changes\n",
    "- (+) extendable via direct access to DLLs (under Windows)\n",
    "  \n",
    "... and cons of Python:  \n",
    "- (-) some concepts are “different” (e.g. indentation for marking logical blocks)\n",
    "- (-) “single thread” by design, however tools for supporting of multi-core CPUs are available\n",
    "- (-) interpreted language, thus usually slower than compiled languages (such as C)\n",
    "- (-) when using more complex language features, the learning curve can be steep.\n",
    "- (-) choose libraries wisely, as there are many failed and abandoned projects our there ...\n",
    "\n",
    "### The \"pythonic way\" \n",
    "\n",
    "- PEPs (Python Enhancement Proposals)\n",
    "- [PEP 8](https://www.python.org/dev/peps/pep-0008) is the de facto code style guide for Python. For more details, see also [Python style guide](https://docs.python-guide.org/writing/style/).\n",
    "- [PEP 20](https://www.python.org/dev/peps/pep-0020), the guiding principles for Python’s design. Also known as the \"Zen of Python\" (by Tim Peters).\n",
    "\n",
    "\n",
    "        "
   ]
  },
  {
   "cell_type": "markdown",
   "metadata": {},
   "source": [
    "  ```\n",
    "  Beautiful is better than ugly.\n",
    "  Explicit is better than implicit.\n",
    "  Simple is better than complex.\n",
    "  Complex is better than complicated.\n",
    "  Flat is better than nested.\n",
    "  Sparse is better than dense.\n",
    "  Readability counts.\n",
    "  Special cases aren't special enough to break the rules.\n",
    "  Although practicality beats purity.\n",
    "  Errors should never pass silently.\n",
    "  Unless explicitly silenced.\n",
    "  In the face of ambiguity, refuse the temptation to guess.\n",
    "  There should be one-- and preferably only one --obvious way to do it.\n",
    "  Although that way may not be obvious at first unless you're Dutch.\n",
    "  Now is better than never.\n",
    "  Although never is often better than *right* now.\n",
    "  If the implementation is hard to explain, it's a bad idea.\n",
    "  If the implementation is easy to explain, it may be a good idea.\n",
    "  Namespaces are one honking great idea -- let's do more of those!\n",
    "  ```"
   ]
  },
  {
   "cell_type": "markdown",
   "metadata": {},
   "source": [
    "---\n",
    "## Getting ready ...\n",
    "\n",
    "### Python versions\n",
    "\n",
    "- Python 3.x is standard (latest is v3.11)\n",
    "- **Do not use Python 2.x**\n",
    "- Many distributions are available (in addition to the default at [python.org](https://www.python.org/))\n",
    "- [Anaconda](https://www.anaconda.com/products/distribution) as our default distribution\n",
    "\n",
    "Finding help:\n",
    "- Python is maintained by the non-profit Python Software Foundation, which hosts the main [website for Python](https://www.python.org/). \n",
    "- CPython, the reference implementation of Python, is free and open-source software and has a community-based development model and is managed by the Python Software Foundation.\n",
    "- The complete [Python documentation](https://docs.python.org/3/) can be found on python.org\n",
    "- A great forum to find help is [stackoverflow](http://stackoverflow.com/) (not only for Python)\n",
    "\n"
   ]
  },
  {
   "cell_type": "markdown",
   "metadata": {},
   "source": [
    "### Installation of Python plus some tools\n",
    "\n",
    "1. Install Anaconda ...\n",
    "2. Install `git` (if not already installed)\n",
    "    - Windows: https://gitforwindows.org/\n",
    "    - ...\n",
    "    \n",
    "3. Start Anaconda Navigator ...\n",
    "    - Create a new environment under \"Environments\" (`pyclass23_env`)\n",
    "    - Change back to \"Home\"\n",
    "    - Click \"Jupyter Notebook\" to install it; do the same for \"JupyterLab\"\n",
    "\n",
    "4. In the Anaconda Navigator (under \"Environments\"), select your environment and open a terminal\n",
    "    \n",
    "5. Clone course repository and change into that folder: \n",
    "   ```\n",
    "   git clone https://github.com/eulerlab/pyclass23.git\n",
    "   cd pyclass23\n",
    "   pip install -r requirements.txt\n",
    "   dir\n",
    "   ```\n",
    "   \n",
    "#### Remarks:\n",
    "\n",
    "- Anaconda Navigator is an easy-to-use frontend for the Anaconda distribution\n",
    "- `conda` can be used the manage environments at the prompt level, e.g.,\n",
    "  ```\n",
    "  conda activate python_course_public\n",
    "  conda deactivate\n",
    "  ```\n",
    "- `pip` is a Python package manager\n",
    "- `git` is a powerful version control tool\n"
   ]
  },
  {
   "cell_type": "markdown",
   "metadata": {},
   "source": [
    "---\n",
    "## Interacting with Python\n",
    "\n",
    "### Different ways to run Python\n",
    "\n",
    "- via a terminal (e.g., the one linked by Anaconda Navigator)\n",
    "- via a development tool (e.g., [Thonny](https://thonny.org/)).\n",
    "- via a jupyter notebook (run it from Anaconda Navigator or type in a terminal `jupyter notebook`)\n",
    "- via JupyterLab (`jupyter lab`)\n",
    "  \n",
    "### Getting help\n",
    "\n",
    "- Tab to autocomplete\n",
    "- `??` to request the docstring (from the help file)\n",
    "- `Ctrl-i` to request the docstring in JupyterLab\n"
   ]
  },
  {
   "cell_type": "code",
   "execution_count": 1,
   "metadata": {},
   "outputs": [],
   "source": [
    "import numpy as np"
   ]
  },
  {
   "cell_type": "code",
   "execution_count": 2,
   "metadata": {},
   "outputs": [
    {
     "data": {
      "text/plain": [
       "<function numpy.array>"
      ]
     },
     "execution_count": 2,
     "metadata": {},
     "output_type": "execute_result"
    }
   ],
   "source": [
    "np.array"
   ]
  },
  {
   "cell_type": "code",
   "execution_count": 3,
   "metadata": {},
   "outputs": [],
   "source": [
    "??np.array"
   ]
  },
  {
   "cell_type": "code",
   "execution_count": null,
   "metadata": {},
   "outputs": [],
   "source": []
  }
 ],
 "metadata": {
  "kernelspec": {
   "display_name": "Python 3",
   "language": "python",
   "name": "python3"
  },
  "language_info": {
   "codemirror_mode": {
    "name": "ipython",
    "version": 3
   },
   "file_extension": ".py",
   "mimetype": "text/x-python",
   "name": "python",
   "nbconvert_exporter": "python",
   "pygments_lexer": "ipython3",
   "version": "3.8.8"
  }
 },
 "nbformat": 4,
 "nbformat_minor": 4
}

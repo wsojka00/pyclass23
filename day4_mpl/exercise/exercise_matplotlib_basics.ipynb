{
 "cells": [
  {
   "cell_type": "markdown",
   "id": "exciting-attitude",
   "metadata": {},
   "source": [
    "# Matplolib Basic Exercise"
   ]
  },
  {
   "cell_type": "markdown",
   "id": "inside-denmark",
   "metadata": {},
   "source": [
    "- in this exercise, we want to use some simple plotting functions using matplotlib\n",
    "- DO NOT USE SEABORN"
   ]
  },
  {
   "cell_type": "markdown",
   "id": "relevant-cache",
   "metadata": {},
   "source": [
    "## import"
   ]
  },
  {
   "cell_type": "code",
   "execution_count": 1,
   "id": "unlikely-roommate",
   "metadata": {},
   "outputs": [],
   "source": [
    "from sklearn.datasets import load_iris\n",
    "import numpy as np\n",
    "import matplotlib.pyplot as plt"
   ]
  },
  {
   "cell_type": "markdown",
   "id": "sonic-abraham",
   "metadata": {},
   "source": [
    "# The iris dataset"
   ]
  },
  {
   "cell_type": "markdown",
   "id": "boxed-spelling",
   "metadata": {},
   "source": [
    "- data sets consists of 3 different types of irises’ (Setosa, Versicolour, and Virginica) petal and sepal length, stored in a 150x4 numpy.ndarray\n",
    "\n",
    "- rows being the samples and the columns being: Sepal Length (cm), Sepal Width (cm), Petal Length (cm) and Petal Width (cm)"
   ]
  },
  {
   "cell_type": "code",
   "execution_count": 32,
   "id": "original-vietnam",
   "metadata": {},
   "outputs": [],
   "source": [
    "# we load this dataset as numpy.ndarray (not as pandas dataframe)\n",
    "X, y = load_iris(as_frame=False, return_X_y=True)"
   ]
  },
  {
   "cell_type": "markdown",
   "id": "nonprofit-assault",
   "metadata": {},
   "source": [
    "# Line plot"
   ]
  },
  {
   "cell_type": "markdown",
   "id": "interior-minute",
   "metadata": {},
   "source": [
    "- plot the 4 different features for all 3 types of irises' as line plot including a figure legend"
   ]
  },
  {
   "cell_type": "code",
   "execution_count": 1,
   "id": "protecting-reaction",
   "metadata": {},
   "outputs": [],
   "source": [
    "# Enter code here"
   ]
  },
  {
   "cell_type": "markdown",
   "id": "fallen-reader",
   "metadata": {},
   "source": [
    "# Scatter plot using the Iris dataset"
   ]
  },
  {
   "cell_type": "markdown",
   "id": "exceptional-grave",
   "metadata": {},
   "source": [
    "- visualize the iris dataset as scatter plot in which you plot the sepal length (cm) against the petal length (cm) and color-code the 3 different types of irises'\n",
    "- do not forget the x- and y-labels\n",
    "- (add a figure legend if possible)"
   ]
  },
  {
   "cell_type": "code",
   "execution_count": 2,
   "id": "imposed-ranch",
   "metadata": {},
   "outputs": [],
   "source": [
    "# Enter code here"
   ]
  },
  {
   "cell_type": "markdown",
   "id": "fossil-delight",
   "metadata": {},
   "source": [
    "# Box Plot"
   ]
  },
  {
   "cell_type": "markdown",
   "id": "endangered-experiment",
   "metadata": {},
   "source": [
    "- create a box plot for the 4 different features across all three types of irises'\n",
    "- add x- and y-labels as well as proper x-ticklabels\n",
    "- include outliers (fliers), indicate the mean"
   ]
  },
  {
   "cell_type": "code",
   "execution_count": 3,
   "id": "increasing-player",
   "metadata": {},
   "outputs": [],
   "source": [
    "# Enter code here"
   ]
  },
  {
   "cell_type": "markdown",
   "id": "bound-reminder",
   "metadata": {},
   "source": [
    "# Violin Plot"
   ]
  },
  {
   "cell_type": "markdown",
   "id": "front-sodium",
   "metadata": {},
   "source": [
    "- this time, plot a violin plot instead of a box plot"
   ]
  },
  {
   "cell_type": "code",
   "execution_count": 4,
   "id": "flexible-philosophy",
   "metadata": {},
   "outputs": [],
   "source": [
    "# Enter code here"
   ]
  },
  {
   "cell_type": "markdown",
   "id": "diverse-anthony",
   "metadata": {},
   "source": [
    "# (optional) Plot all 4 figure in 1 subplot figure"
   ]
  },
  {
   "cell_type": "markdown",
   "id": "enabling-doubt",
   "metadata": {},
   "source": [
    "- make sure the dimensions fit and the figure does not look crowded\n",
    "- add titles for each subplot"
   ]
  },
  {
   "cell_type": "code",
   "execution_count": 5,
   "id": "adaptive-employee",
   "metadata": {},
   "outputs": [],
   "source": [
    "# Enter code here"
   ]
  }
 ],
 "metadata": {
  "kernelspec": {
   "display_name": "Python 3",
   "language": "python",
   "name": "python3"
  },
  "language_info": {
   "codemirror_mode": {
    "name": "ipython",
    "version": 3
   },
   "file_extension": ".py",
   "mimetype": "text/x-python",
   "name": "python",
   "nbconvert_exporter": "python",
   "pygments_lexer": "ipython3",
   "version": "3.7.5"
  }
 },
 "nbformat": 4,
 "nbformat_minor": 5
}

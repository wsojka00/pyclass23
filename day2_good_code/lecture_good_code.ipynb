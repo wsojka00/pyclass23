{
 "cells": [
  {
   "cell_type": "markdown",
   "metadata": {},
   "source": [
    "# Lecture Good Code\n",
    "\n",
    "- Language basics (syntax, data types, ...) \n",
    "- Good coding practice "
   ]
  },
  {
   "cell_type": "markdown",
   "metadata": {},
   "source": [
    "## Magic\n",
    "\n",
    "- with `%` [magic commands](https://ipython.readthedocs.io/en/stable/interactive/magics.html) provided by iPython (which is running Jupyter)\n",
    "- with `!` execute a terminal/shell command   \n",
    "  (e.g., useful to install packages that are missing)"
   ]
  },
  {
   "cell_type": "code",
   "execution_count": 1,
   "metadata": {},
   "outputs": [
    {
     "data": {
      "application/json": {
       "cell": {
        "!": "OSMagics",
        "HTML": "Other",
        "SVG": "Other",
        "bash": "Other",
        "capture": "ExecutionMagics",
        "cmd": "Other",
        "debug": "ExecutionMagics",
        "file": "Other",
        "html": "DisplayMagics",
        "javascript": "DisplayMagics",
        "js": "DisplayMagics",
        "latex": "DisplayMagics",
        "markdown": "DisplayMagics",
        "perl": "Other",
        "prun": "ExecutionMagics",
        "pypy": "Other",
        "python": "Other",
        "python2": "Other",
        "python3": "Other",
        "ruby": "Other",
        "script": "ScriptMagics",
        "sh": "Other",
        "svg": "DisplayMagics",
        "sx": "OSMagics",
        "system": "OSMagics",
        "time": "ExecutionMagics",
        "timeit": "ExecutionMagics",
        "writefile": "OSMagics"
       },
       "line": {
        "alias": "OSMagics",
        "alias_magic": "BasicMagics",
        "autoawait": "AsyncMagics",
        "autocall": "AutoMagics",
        "automagic": "AutoMagics",
        "autosave": "KernelMagics",
        "bookmark": "OSMagics",
        "cd": "OSMagics",
        "clear": "KernelMagics",
        "cls": "KernelMagics",
        "colors": "BasicMagics",
        "conda": "PackagingMagics",
        "config": "ConfigMagics",
        "connect_info": "KernelMagics",
        "copy": "Other",
        "ddir": "Other",
        "debug": "ExecutionMagics",
        "dhist": "OSMagics",
        "dirs": "OSMagics",
        "doctest_mode": "BasicMagics",
        "echo": "Other",
        "ed": "Other",
        "edit": "KernelMagics",
        "env": "OSMagics",
        "gui": "BasicMagics",
        "hist": "Other",
        "history": "HistoryMagics",
        "killbgscripts": "ScriptMagics",
        "ldir": "Other",
        "less": "KernelMagics",
        "load": "CodeMagics",
        "load_ext": "ExtensionMagics",
        "loadpy": "CodeMagics",
        "logoff": "LoggingMagics",
        "logon": "LoggingMagics",
        "logstart": "LoggingMagics",
        "logstate": "LoggingMagics",
        "logstop": "LoggingMagics",
        "ls": "Other",
        "lsmagic": "BasicMagics",
        "macro": "ExecutionMagics",
        "magic": "BasicMagics",
        "matplotlib": "PylabMagics",
        "mkdir": "Other",
        "more": "KernelMagics",
        "notebook": "BasicMagics",
        "page": "BasicMagics",
        "pastebin": "CodeMagics",
        "pdb": "ExecutionMagics",
        "pdef": "NamespaceMagics",
        "pdoc": "NamespaceMagics",
        "pfile": "NamespaceMagics",
        "pinfo": "NamespaceMagics",
        "pinfo2": "NamespaceMagics",
        "pip": "PackagingMagics",
        "popd": "OSMagics",
        "pprint": "BasicMagics",
        "precision": "BasicMagics",
        "prun": "ExecutionMagics",
        "psearch": "NamespaceMagics",
        "psource": "NamespaceMagics",
        "pushd": "OSMagics",
        "pwd": "OSMagics",
        "pycat": "OSMagics",
        "pylab": "PylabMagics",
        "qtconsole": "KernelMagics",
        "quickref": "BasicMagics",
        "recall": "HistoryMagics",
        "rehashx": "OSMagics",
        "reload_ext": "ExtensionMagics",
        "ren": "Other",
        "rep": "Other",
        "rerun": "HistoryMagics",
        "reset": "NamespaceMagics",
        "reset_selective": "NamespaceMagics",
        "rmdir": "Other",
        "run": "ExecutionMagics",
        "save": "CodeMagics",
        "sc": "OSMagics",
        "set_env": "OSMagics",
        "store": "StoreMagics",
        "sx": "OSMagics",
        "system": "OSMagics",
        "tb": "ExecutionMagics",
        "time": "ExecutionMagics",
        "timeit": "ExecutionMagics",
        "unalias": "OSMagics",
        "unload_ext": "ExtensionMagics",
        "who": "NamespaceMagics",
        "who_ls": "NamespaceMagics",
        "whos": "NamespaceMagics",
        "xdel": "NamespaceMagics",
        "xmode": "BasicMagics"
       }
      },
      "text/plain": [
       "Available line magics:\n",
       "%alias  %alias_magic  %autoawait  %autocall  %automagic  %autosave  %bookmark  %cd  %clear  %cls  %colors  %conda  %config  %connect_info  %copy  %ddir  %debug  %dhist  %dirs  %doctest_mode  %echo  %ed  %edit  %env  %gui  %hist  %history  %killbgscripts  %ldir  %less  %load  %load_ext  %loadpy  %logoff  %logon  %logstart  %logstate  %logstop  %ls  %lsmagic  %macro  %magic  %matplotlib  %mkdir  %more  %notebook  %page  %pastebin  %pdb  %pdef  %pdoc  %pfile  %pinfo  %pinfo2  %pip  %popd  %pprint  %precision  %prun  %psearch  %psource  %pushd  %pwd  %pycat  %pylab  %qtconsole  %quickref  %recall  %rehashx  %reload_ext  %ren  %rep  %rerun  %reset  %reset_selective  %rmdir  %run  %save  %sc  %set_env  %store  %sx  %system  %tb  %time  %timeit  %unalias  %unload_ext  %who  %who_ls  %whos  %xdel  %xmode\n",
       "\n",
       "Available cell magics:\n",
       "%%!  %%HTML  %%SVG  %%bash  %%capture  %%cmd  %%debug  %%file  %%html  %%javascript  %%js  %%latex  %%markdown  %%perl  %%prun  %%pypy  %%python  %%python2  %%python3  %%ruby  %%script  %%sh  %%svg  %%sx  %%system  %%time  %%timeit  %%writefile\n",
       "\n",
       "Automagic is ON, % prefix IS NOT needed for line magics."
      ]
     },
     "execution_count": 1,
     "metadata": {},
     "output_type": "execute_result"
    }
   ],
   "source": [
    "%lsmagic"
   ]
  },
  {
   "cell_type": "code",
   "execution_count": 3,
   "metadata": {},
   "outputs": [
    {
     "name": "stdout",
     "output_type": "stream",
     "text": [
      " Volume in drive C is Windows\n",
      " Volume Serial Number is A67C-D1BC\n",
      "\n",
      " Directory of C:\\Users\\48786\\Documents\\GitHub\\pyclass23\\day2_good_code\n",
      "\n",
      "07.03.2023  09:19    <DIR>          .\n",
      "06.03.2023  15:54    <DIR>          ..\n",
      "06.03.2023  10:40    <DIR>          .ipynb_checkpoints\n",
      "07.03.2023  09:18    <DIR>          exercise_1\n",
      "06.03.2023  10:20    <DIR>          exercise_2\n",
      "06.03.2023  10:20    <DIR>          exercise_3\n",
      "07.03.2023  09:19            29ÿ928 lecture_good_code.ipynb\n",
      "06.03.2023  10:20               241 my_main_1.py\n",
      "06.03.2023  10:20               364 my_main_2.py\n",
      "06.03.2023  10:20               331 my_main_3.py\n",
      "06.03.2023  10:20               489 my_main_4.py\n",
      "06.03.2023  10:20               810 my_main_5.py\n",
      "06.03.2023  10:20               871 my_main_6.py\n",
      "               7 File(s)         33ÿ034 bytes\n",
      "               6 Dir(s)  35ÿ387ÿ731ÿ968 bytes free\n"
     ]
    }
   ],
   "source": [
    "# terminal command\n",
    "\n",
    "!dir"
   ]
  },
  {
   "cell_type": "code",
   "execution_count": 3,
   "metadata": {},
   "outputs": [
    {
     "name": "stdout",
     "output_type": "stream",
     "text": [
      "Requirement already satisfied: numpy in c:\\users\\48786\\anaconda\\lib\\site-packages (1.22.1)\n"
     ]
    }
   ],
   "source": [
    "!pip install numpy"
   ]
  },
  {
   "cell_type": "code",
   "execution_count": 5,
   "metadata": {},
   "outputs": [
    {
     "name": "stdout",
     "output_type": "stream",
     "text": [
      "Collecting pyserial\n",
      "  Downloading pyserial-3.5-py2.py3-none-any.whl (90 kB)\n",
      "Installing collected packages: pyserial\n",
      "Successfully installed pyserial-3.5\n"
     ]
    }
   ],
   "source": [
    "!pip install pyserial"
   ]
  },
  {
   "cell_type": "code",
   "execution_count": 6,
   "metadata": {},
   "outputs": [],
   "source": [
    "import serial"
   ]
  },
  {
   "cell_type": "markdown",
   "metadata": {},
   "source": [
    "## Interacting with the Operating System\n",
    "\n",
    "The `os` module provides a portable way of using operating system dependent functionality.  \n",
    "The `sys`module provides access to some variables used or maintained by the interpreter and to functions that interact strongly with the interpreter. It is always available.  \n",
    "`platform` provides access to underlying platform’s identifying data."
   ]
  },
  {
   "cell_type": "code",
   "execution_count": 7,
   "metadata": {},
   "outputs": [
    {
     "data": {
      "text/plain": [
       "('C:\\\\Users\\\\48786\\\\Documents\\\\GitHub\\\\pyclass23\\\\day2_good_code', 'nt')"
      ]
     },
     "execution_count": 7,
     "metadata": {},
     "output_type": "execute_result"
    }
   ],
   "source": [
    "import os\n",
    "os.getcwd(), os.name"
   ]
  },
  {
   "cell_type": "code",
   "execution_count": 20,
   "metadata": {},
   "outputs": [
    {
     "data": {
      "text/plain": [
       "['C:', 'Users', '48786', 'Documents', 'GitHub', 'pyclass23', 'day2_good_code']"
      ]
     },
     "execution_count": 20,
     "metadata": {},
     "output_type": "execute_result"
    }
   ],
   "source": [
    "os.getcwd().split('\\\\')"
   ]
  },
  {
   "cell_type": "code",
   "execution_count": 8,
   "metadata": {},
   "outputs": [
    {
     "data": {
      "text/plain": [
       "'day2_good_code'"
      ]
     },
     "execution_count": 8,
     "metadata": {},
     "output_type": "execute_result"
    }
   ],
   "source": [
    "p = os.getcwd()\n",
    "os.path.basename(p)"
   ]
  },
  {
   "cell_type": "code",
   "execution_count": 9,
   "metadata": {},
   "outputs": [
    {
     "data": {
      "text/plain": [
       "(True, False)"
      ]
     },
     "execution_count": 9,
     "metadata": {},
     "output_type": "execute_result"
    }
   ],
   "source": [
    "p = os.getcwd() +\"\\\\exercise_1\"\n",
    "os.path.exists(p), os.path.isfile(p)"
   ]
  },
  {
   "cell_type": "code",
   "execution_count": 10,
   "metadata": {},
   "outputs": [
    {
     "data": {
      "text/plain": [
       "'win32'"
      ]
     },
     "execution_count": 10,
     "metadata": {},
     "output_type": "execute_result"
    }
   ],
   "source": [
    "import sys\n",
    "# which system are u using\n",
    "sys.platform "
   ]
  },
  {
   "cell_type": "code",
   "execution_count": 11,
   "metadata": {},
   "outputs": [
    {
     "data": {
      "text/plain": [
       "'Windows 10'"
      ]
     },
     "execution_count": 11,
     "metadata": {},
     "output_type": "execute_result"
    }
   ],
   "source": [
    "import platform\n",
    "platform.system() +\" \" +platform.release()"
   ]
  },
  {
   "cell_type": "markdown",
   "metadata": {},
   "source": [
    "## Strings\n"
   ]
  },
  {
   "cell_type": "code",
   "execution_count": 10,
   "metadata": {},
   "outputs": [
    {
     "name": "stdout",
     "output_type": "stream",
     "text": [
      "Hello World\n",
      "11\n"
     ]
    }
   ],
   "source": [
    "s1 = \"Hello\"\n",
    "s2 = \"World\"\n",
    "s3 = s1 +\" \" +s2\n",
    "print(s3)\n",
    "print(len(s3)) "
   ]
  },
  {
   "cell_type": "code",
   "execution_count": 11,
   "metadata": {},
   "outputs": [
    {
     "data": {
      "text/plain": [
       "True"
      ]
     },
     "execution_count": 11,
     "metadata": {},
     "output_type": "execute_result"
    }
   ],
   "source": [
    "\"ello\" in s3"
   ]
  },
  {
   "cell_type": "code",
   "execution_count": 12,
   "metadata": {},
   "outputs": [
    {
     "data": {
      "text/plain": [
       "('HELLO WORLD', 'hello world')"
      ]
     },
     "execution_count": 12,
     "metadata": {},
     "output_type": "execute_result"
    }
   ],
   "source": [
    "s3.upper(), s3.lower()"
   ]
  },
  {
   "cell_type": "code",
   "execution_count": 13,
   "metadata": {},
   "outputs": [
    {
     "name": "stdout",
     "output_type": "stream",
     "text": [
      "World\n",
      "1\n",
      "3.141592653589793\n"
     ]
    }
   ],
   "source": [
    "import math \n",
    "a = [\"World\", 1, math.pi]\n",
    "\n",
    "for element in a:\n",
    "    print(element)"
   ]
  },
  {
   "cell_type": "markdown",
   "metadata": {},
   "source": [
    "## Formatting numbers and stuff\n",
    "\n",
    "- `format()` function\n",
    "- `f-string`\n",
    "- Strings can be enclosed by `\"\"` or `''`"
   ]
  },
  {
   "cell_type": "code",
   "execution_count": 14,
   "metadata": {},
   "outputs": [
    {
     "name": "stdout",
     "output_type": "stream",
     "text": [
      "pi rounded to 3 digits is 3.142\n"
     ]
    }
   ],
   "source": [
    "print(\"pi rounded to 3 digits is {0:.3f}\".format(math.pi)) "
   ]
  },
  {
   "cell_type": "code",
   "execution_count": 15,
   "metadata": {},
   "outputs": [
    {
     "name": "stdout",
     "output_type": "stream",
     "text": [
      "12 is smaller than 256\n"
     ]
    }
   ],
   "source": [
    "a = 12\n",
    "b = 256\n",
    "print(\"{0} is {1} than {2}\".format(a, \"larger\" if a>b else \"smaller\", b))"
   ]
  },
  {
   "cell_type": "code",
   "execution_count": 16,
   "metadata": {},
   "outputs": [
    {
     "name": "stdout",
     "output_type": "stream",
     "text": [
      "12 is smaller than 256\n"
     ]
    }
   ],
   "source": [
    "s = \"{0} is {1} than {2}\".format(a, \"larger\" if a>b else \"smaller\", b)\n",
    "print(s)"
   ]
  },
  {
   "cell_type": "code",
   "execution_count": 17,
   "metadata": {},
   "outputs": [
    {
     "name": "stdout",
     "output_type": "stream",
     "text": [
      "12 is smaller than 256\n"
     ]
    }
   ],
   "source": [
    "print(f\"{a} is {'larger' if a>b else 'smaller'} than {b}\")"
   ]
  },
  {
   "cell_type": "markdown",
   "metadata": {},
   "source": [
    "## `main` function\n"
   ]
  },
  {
   "cell_type": "code",
   "execution_count": 22,
   "metadata": {},
   "outputs": [
    {
     "name": "stdout",
     "output_type": "stream",
     "text": [
      "Hello Weronika!\n",
      "Program ended.\n"
     ]
    }
   ],
   "source": [
    "!python my_main_1.py Weronika"
   ]
  },
  {
   "cell_type": "markdown",
   "metadata": {},
   "source": [
    "## Exception handling"
   ]
  },
  {
   "cell_type": "markdown",
   "metadata": {},
   "source": [
    "\n",
    "raise ValueError(\"Input must be a natural number\")\n",
    "\n",
    "\n",
    "- classes\n",
    "- good coding practice (primer; here e.g., environments) \n"
   ]
  },
  {
   "cell_type": "code",
   "execution_count": 25,
   "metadata": {},
   "outputs": [
    {
     "name": "stdout",
     "output_type": "stream",
     "text": [
      "Error: No argument\n",
      "Program ended.\n"
     ]
    }
   ],
   "source": [
    "!python my_main_2.py "
   ]
  },
  {
   "cell_type": "code",
   "execution_count": 30,
   "metadata": {},
   "outputs": [
    {
     "name": "stdout",
     "output_type": "stream",
     "text": [
      "Hello Weronika!\n",
      "val1/val2=0.600\n",
      "Done.\n",
      "Program ended.\n"
     ]
    }
   ],
   "source": [
    "!python my_main_4.py Weronika 3 5"
   ]
  },
  {
   "cell_type": "code",
   "execution_count": 32,
   "metadata": {},
   "outputs": [
    {
     "name": "stdout",
     "output_type": "stream",
     "text": [
      "Hello Weronika!\n"
     ]
    },
    {
     "name": "stderr",
     "output_type": "stream",
     "text": [
      "Traceback (most recent call last):\n",
      "  File \"my_main_4.py\", line 25, in <module>\n",
      "    main()\n",
      "  File \"my_main_4.py\", line 15, in main\n",
      "    res = val1 /val2\n",
      "ZeroDivisionError: float division by zero\n"
     ]
    }
   ],
   "source": [
    "!python my_main_4.py Weronika 9 0"
   ]
  },
  {
   "cell_type": "code",
   "execution_count": 35,
   "metadata": {},
   "outputs": [
    {
     "name": "stdout",
     "output_type": "stream",
     "text": [
      "Hello Weronika!\n",
      "Error: Third argument cannot be zero\n",
      "Program ended.\n"
     ]
    }
   ],
   "source": [
    "!python my_main_5.py Weronika 10 0"
   ]
  },
  {
   "cell_type": "markdown",
   "metadata": {},
   "source": [
    "## Classes\n",
    "\n",
    "Object oriented programming."
   ]
  },
  {
   "cell_type": "markdown",
   "metadata": {},
   "source": [
    "## Good programming praxis\n",
    "\n",
    "- number of code lines ~ number of comments \n",
    "- Systematic naming of functions and variables (`my_var`, `file_name`, `get_prime_number`)  \n",
    "- Check [style recommendations](https://docs.python-guide.org/writing/style/)\n",
    "- Avoid `global` variables"
   ]
  },
  {
   "cell_type": "code",
   "execution_count": 53,
   "metadata": {},
   "outputs": [],
   "source": [
    "shiny_new_global_var = 123"
   ]
  },
  {
   "cell_type": "code",
   "execution_count": 54,
   "metadata": {},
   "outputs": [],
   "source": [
    "def do_something():\n",
    "    print(shiny_new_global_var)"
   ]
  },
  {
   "cell_type": "code",
   "execution_count": 55,
   "metadata": {},
   "outputs": [
    {
     "name": "stdout",
     "output_type": "stream",
     "text": [
      "123\n"
     ]
    }
   ],
   "source": [
    "do_something()"
   ]
  },
  {
   "cell_type": "markdown",
   "metadata": {},
   "source": [
    "## Exceptions\n",
    "\n",
    "Even if a statement or expression is syntactically correct, it may cause an error when an attempt is made to execute it. Errors detected during execution are called exceptions and are not unconditionally fatal."
   ]
  },
  {
   "cell_type": "code",
   "execution_count": null,
   "metadata": {},
   "outputs": [],
   "source": [
    "def myDivide(v1, v2):\n",
    "    return v1/v2"
   ]
  },
  {
   "cell_type": "code",
   "execution_count": null,
   "metadata": {},
   "outputs": [],
   "source": [
    "print(myDivide(12, 3))\n",
    "print(myDivide(12, 0))"
   ]
  },
  {
   "cell_type": "markdown",
   "metadata": {},
   "source": [
    "Handling an exception (an error) using a try-except contruct:"
   ]
  },
  {
   "cell_type": "code",
   "execution_count": null,
   "metadata": {},
   "outputs": [],
   "source": [
    "def myDivide(v1, v2):\n",
    "    try:\n",
    "        return v1/v2\n",
    "    except ZeroDivisionError:\n",
    "        print(\"Second argument must not be zero\")\n",
    "        return None"
   ]
  },
  {
   "cell_type": "code",
   "execution_count": null,
   "metadata": {},
   "outputs": [],
   "source": [
    "print(myDivide(12, 3))\n",
    "print(myDivide(12, 0))\n",
    "print(myDivide(12, None))"
   ]
  },
  {
   "cell_type": "markdown",
   "metadata": {},
   "source": [
    "Multiple exceptions can be caught (handled):"
   ]
  },
  {
   "cell_type": "code",
   "execution_count": null,
   "metadata": {},
   "outputs": [],
   "source": [
    "def myDivide(v1, v2):\n",
    "    try:\n",
    "        return v1/v2\n",
    "    except ZeroDivisionError:\n",
    "        print(\"Second argument must not be zero\")\n",
    "    except TypeError:    \n",
    "        print(\"Arguments must be numerical\")\n",
    "    return None"
   ]
  },
  {
   "cell_type": "code",
   "execution_count": null,
   "metadata": {},
   "outputs": [],
   "source": [
    "print(myDivide(12, 3))\n",
    "print(myDivide(12, 0))\n",
    "print(myDivide(12, [1,2]))"
   ]
  },
  {
   "cell_type": "code",
   "execution_count": null,
   "metadata": {},
   "outputs": [],
   "source": [
    "def myDivide(v1, v2):\n",
    "    try:\n",
    "        return v1/v2\n",
    "    except ZeroDivisionError:\n",
    "        print(\"Second argument must not be zero\")\n",
    "    #except TypeError:    \n",
    "    #   print(\"Arguments must be numerical\")\n",
    "    except:\n",
    "        print(\"Error but not sure what the hack happened\")\n",
    "    return None"
   ]
  },
  {
   "cell_type": "code",
   "execution_count": null,
   "metadata": {},
   "outputs": [],
   "source": [
    "print(myDivide(12, 3))\n",
    "print(myDivide(12, 0))\n",
    "print(myDivide(12, [1,2]))"
   ]
  },
  {
   "cell_type": "markdown",
   "metadata": {},
   "source": [
    "## Classes\n",
    "A simple class with the typical \"ingredients\""
   ]
  },
  {
   "cell_type": "code",
   "execution_count": null,
   "metadata": {},
   "outputs": [],
   "source": [
    "class Cell():\n",
    "    cellID = None\n",
    "    \n",
    "    def getCellID(self):\n",
    "        return self.cellID\n",
    "    \n",
    "    def setCellID(self, newID):\n",
    "        if newID > 0:\n",
    "            self.cellID = newID\n",
    "        else:\n",
    "            print(\"Cell IDs cannot be <= 0\")        "
   ]
  },
  {
   "cell_type": "code",
   "execution_count": null,
   "metadata": {},
   "outputs": [],
   "source": [
    "c = Cell()\n",
    "print(c)\n",
    "print(c.cellID)\n",
    "\n",
    "c.cellID = 123\n",
    "print(c.cellID)\n",
    "print(c.getCellID())\n",
    "\n",
    "c.setCellID(-1)\n",
    "print(c.getCellID())\n",
    "\n",
    "c.setCellID(345)\n",
    "print(c.getCellID())"
   ]
  },
  {
   "cell_type": "code",
   "execution_count": null,
   "metadata": {},
   "outputs": [],
   "source": [
    "c1 = Cell()\n",
    "c2 = Cell()\n",
    "\n",
    "print(c1.cellID, c2.cellID)\n",
    "c1.cellID = 456\n",
    "\n",
    "print(c1.cellID, c2.cellID)"
   ]
  },
  {
   "cell_type": "markdown",
   "metadata": {},
   "source": [
    "Now we overwrite methods that are inherited by ``object``, for instance ``__init__``, which is automatically called when a class is instantiated (=an object of that class is created). Likewise, ``__str__`` provides a textual description of the object."
   ]
  },
  {
   "cell_type": "code",
   "execution_count": null,
   "metadata": {},
   "outputs": [],
   "source": [
    "class Cell(object):\n",
    "    def __init__(self, newID):\n",
    "        self.cellID = newID\n",
    "    \n",
    "    def __str__(self):\n",
    "        return \"Cell with ID={0:d}\".format(self.cellID)\n",
    "    \n",
    "    def getCellID(self):\n",
    "        return self.cellID\n",
    "    \n",
    "    def changeCellID(self, newID):\n",
    "        if newID != self.cellID:\n",
    "            self.cellID = newID\n",
    "        else:\n",
    "            print(\"Cell ID is the same as before\")  \n",
    "        return self.cellID    "
   ]
  },
  {
   "cell_type": "code",
   "execution_count": null,
   "metadata": {},
   "outputs": [],
   "source": [
    "c = Cell(123)\n",
    "print(c)\n",
    "print(c.cellID)\n",
    "\n",
    "print(c.changeCellID(123))\n",
    "print(c.changeCellID(345))"
   ]
  },
  {
   "cell_type": "markdown",
   "metadata": {},
   "source": [
    "Now we define a second object that encapsulates some sort of activity trace."
   ]
  },
  {
   "cell_type": "code",
   "execution_count": null,
   "metadata": {},
   "outputs": [],
   "source": [
    "import numpy as np"
   ]
  },
  {
   "cell_type": "code",
   "execution_count": null,
   "metadata": {},
   "outputs": [],
   "source": [
    "class Trace(object):\n",
    "    def __init__(self):\n",
    "        self.data = np.array([])\n",
    "        self.dt_s = 1.0\n",
    "        self.name = \"n/a\"\n",
    "        \n",
    "    def __str__(self):\n",
    "        return \"Trace '{0}', n={1:d}, dt={2} s\".format(self.name, len(self.data), self.dt_s)\n",
    "        \n",
    "    def calcMean(self):\n",
    "        print(\"Trace.calcMean\")\n",
    "        if len(self.data) == 0:\n",
    "            return None\n",
    "        else:\n",
    "            return self.data.mean()"
   ]
  },
  {
   "cell_type": "code",
   "execution_count": null,
   "metadata": {},
   "outputs": [],
   "source": [
    "trace1 = Trace()\n",
    "trace1.data = np.array([1,2,5,4,6,7,4,3,3,5,6,7])\n",
    "trace1.name = \"chirp response\"\n",
    "trace1.dt_s = 0.1\n",
    "print(trace1)\n",
    "\n",
    "print(trace1.calcMean())"
   ]
  },
  {
   "cell_type": "markdown",
   "metadata": {},
   "source": [
    "We want to make a special version of the Trace class, e.g. one for calcium responses"
   ]
  },
  {
   "cell_type": "code",
   "execution_count": null,
   "metadata": {},
   "outputs": [],
   "source": [
    "class CalciumTrace(Trace):\n",
    "    def calcNormalize(self):\n",
    "        if len(self.data) == 0:\n",
    "            return False\n",
    "        else:\n",
    "            self.data -= self.data.min()\n",
    "            self.data /= self.data.max();\n",
    "            return True"
   ]
  },
  {
   "cell_type": "code",
   "execution_count": null,
   "metadata": {},
   "outputs": [],
   "source": [
    "trace2 = CalciumTrace()\n",
    "trace2.data = np.array(np.random.random_sample(20) *100)\n",
    "trace2.name = \"chirp response\"\n",
    "trace2.dt_s = 0.1\n",
    "print(trace1)\n",
    "print(trace2)\n",
    "\n",
    "print(trace2.data)\n",
    "print(trace2.calcMean())\n",
    "print(trace2.calcNormalize())\n",
    "print(trace2.data)\n",
    "print(trace2.calcMean())"
   ]
  },
  {
   "cell_type": "code",
   "execution_count": null,
   "metadata": {},
   "outputs": [],
   "source": [
    "class CalciumTrace(Trace):\n",
    "    def __init__(self):\n",
    "        super().__init__()\n",
    "        self.nameDye = \"n/a\"\n",
    "    \n",
    "    def __str__(self):\n",
    "        return \"Calcium trace '{0}' ({1}), n={2:d}, dt={3} s\".format(self.nameDye, self.name, len(self.data), self.dt_s)\n",
    "    \n",
    "    def calcNormalize(self):\n",
    "        if len(self.data) == 0:\n",
    "            return False\n",
    "        else:\n",
    "            self.data -= self.data.min()\n",
    "            self.data /= self.data.max();\n",
    "            return True\n",
    "        \n",
    "    def calcMean(self):\n",
    "        print(\"CalciumTrace.calcMean\")\n",
    "        if len(self.data) == 0:\n",
    "            return None\n",
    "        else:\n",
    "            return self.data.mean()        "
   ]
  },
  {
   "cell_type": "code",
   "execution_count": null,
   "metadata": {},
   "outputs": [],
   "source": [
    "trace2 = CalciumTrace()\n",
    "trace2.data = np.array(np.random.random_sample(20) *100)\n",
    "trace2.name = \"chirp response\"\n",
    "trace2.dt_s = 0.1\n",
    "trace2.nameDye = \"OGB1\"\n",
    "print(trace1)\n",
    "print(trace2)\n",
    "\n",
    "print(trace1.data)\n",
    "print(trace1.calcMean())\n",
    "\n",
    "print(trace2.data)\n",
    "print(trace2.calcMean())\n",
    "print(trace2.calcNormalize())\n",
    "print(trace2.data)\n",
    "print(trace2.calcMean())"
   ]
  },
  {
   "cell_type": "code",
   "execution_count": null,
   "metadata": {},
   "outputs": [],
   "source": [
    "class CalciumTrace(Trace):\n",
    "    def __init__(self):\n",
    "        super().__init__()\n",
    "        self.nameDye = \"n/a\"\n",
    "    \n",
    "    def __str__(self):\n",
    "        return \"Calcium trace '{0}' ({1}), n={2:d}, dt={3} s\".format(self.nameDye, self.name, len(self.data), self.dt_s)\n",
    "    \n",
    "    def calcNormalize(self):\n",
    "        if len(self.data) == 0:\n",
    "            return False\n",
    "        else:\n",
    "            self.data -= self.data.min()\n",
    "            self.data /= self.data.max();\n",
    "            return True\n",
    "        \n",
    "    def calcMean(self):\n",
    "        print(\"CalciumTrace.calcMean\")\n",
    "        if len(self.data) == 0:\n",
    "            return None\n",
    "        else:\n",
    "            return self.data.mean()        \n",
    "\n",
    "    def calcMeanOld(self):\n",
    "        return super().calcMean()"
   ]
  },
  {
   "cell_type": "code",
   "execution_count": null,
   "metadata": {},
   "outputs": [],
   "source": [
    "trace2 = CalciumTrace()\n",
    "trace2.data = np.array(np.random.random_sample(20) *100)\n",
    "trace2.name = \"chirp response\"\n",
    "trace2.dt_s = 0.1\n",
    "trace2.nameDye = \"OGB1\"\n",
    "\n",
    "print(trace2.calcMean())\n",
    "print(trace2.calcMeanOld())"
   ]
  },
  {
   "cell_type": "markdown",
   "metadata": {},
   "source": [
    "## Own exceptions (and first useful classes)\n",
    "\n",
    "Also own exceptions can be defined and handled in the same way as general python exceptions. Here, we make use of classes: First to define our own namespace for errors, and second, because Exception is a class and we want to derive our new version."
   ]
  },
  {
   "cell_type": "code",
   "execution_count": null,
   "metadata": {},
   "outputs": [],
   "source": [
    "class MyErrorCodes:\n",
    "    OK                = 0\n",
    "    InvalidArgument   = 1\n",
    "    DivisorGreater10  = 2\n",
    "    Unknown           = 3\n",
    "    \n",
    "MyErrorString = dict([\n",
    "    (MyErrorCodes.OK,               \"ok\"),\n",
    "    (MyErrorCodes.InvalidArgument,  \"Wrong argument\"),\n",
    "    (MyErrorCodes.DivisorGreater10, \"Divisor must be <= 10\"),\n",
    "    (MyErrorCodes.Unknown,          \"Error but not sure what the hack happened\")])"
   ]
  },
  {
   "cell_type": "code",
   "execution_count": null,
   "metadata": {},
   "outputs": [],
   "source": [
    "errc = MyErrorCodes.Unknown\n",
    "print(errc, MyErrorString[errc])"
   ]
  },
  {
   "cell_type": "code",
   "execution_count": null,
   "metadata": {},
   "outputs": [],
   "source": [
    "class MyException(Exception):\n",
    "    def __init__(self, value):\n",
    "        self.value = value\n",
    "        self.str   = MyErrorString[value]\n",
    "    def __str__(self):\n",
    "        return self.str"
   ]
  },
  {
   "cell_type": "code",
   "execution_count": null,
   "metadata": {},
   "outputs": [],
   "source": [
    "def myDivide(v1, v2):\n",
    "    try:\n",
    "        if v2 > 10:\n",
    "            raise MyException(MyErrorCodes.DivisorGreater10)\n",
    "        return v1/v2\n",
    "    \n",
    "    except (ZeroDivisionError, TypeError):\n",
    "        print(MyErrorString[MyErrorCodes.InvalidArgument])\n",
    "    except MyException as err:\n",
    "        print(err)\n",
    "    except:\n",
    "        print(MyErrorString[MyErrorCodes.Unknown])\n",
    "    return None"
   ]
  },
  {
   "cell_type": "code",
   "execution_count": null,
   "metadata": {},
   "outputs": [],
   "source": [
    "print(myDivide(12, 3))\n",
    "print(myDivide(12, 0))\n",
    "print(myDivide(12, [1,2]))\n",
    "print(myDivide(12, 11))"
   ]
  }
 ],
 "metadata": {
  "kernelspec": {
   "display_name": "Python 3",
   "language": "python",
   "name": "python3"
  },
  "language_info": {
   "codemirror_mode": {
    "name": "ipython",
    "version": 3
   },
   "file_extension": ".py",
   "mimetype": "text/x-python",
   "name": "python",
   "nbconvert_exporter": "python",
   "pygments_lexer": "ipython3",
   "version": "3.8.8"
  }
 },
 "nbformat": 4,
 "nbformat_minor": 4
}

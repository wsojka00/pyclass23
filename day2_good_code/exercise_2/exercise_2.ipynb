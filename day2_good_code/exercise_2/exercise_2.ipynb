{
 "cells": [
  {
   "cell_type": "code",
   "execution_count": 1,
   "id": "1a3cc37a",
   "metadata": {},
   "outputs": [],
   "source": [
    "import os"
   ]
  },
  {
   "cell_type": "markdown",
   "id": "6ca98c86",
   "metadata": {},
   "source": [
    "### Tasks:\n",
    "1. start the game by run plantTreasure.py in this notebook\n",
    "2. implement your code either in a .py file or in this notebook to find the planted \"treasure\""
   ]
  },
  {
   "cell_type": "markdown",
   "id": "74524ced",
   "metadata": {},
   "source": [
    "### (If we have talked about error-handling by now, try to implement the code with related knowledge.)"
   ]
  },
  {
   "cell_type": "code",
   "execution_count": 2,
   "id": "93a653d3",
   "metadata": {},
   "outputs": [
    {
     "data": {
      "text/plain": [
       "['.ipynb_checkpoints', 'exercise_2.ipynb', 'plantTreasure.py']"
      ]
     },
     "execution_count": 2,
     "metadata": {},
     "output_type": "execute_result"
    }
   ],
   "source": [
    "# first let's see if you have plantTreasure.py in the current working directory\n",
    "os.listdir('./')\n",
    "\n",
    "# you should see plantTreasure.py\n",
    "\n",
    "# if so: continue\n",
    "# else: seek help (in this case, Google is NOT your friend)"
   ]
  },
  {
   "cell_type": "markdown",
   "id": "5b814b5a",
   "metadata": {},
   "source": [
    "### Goals for task 1:\n",
    "#### a. use os.system() to run command as if it's running in the shell\n",
    "#### b. run plantTreasure.py in the notebook, start the \"game\""
   ]
  },
  {
   "cell_type": "code",
   "execution_count": 3,
   "id": "f83ddade",
   "metadata": {},
   "outputs": [
    {
     "data": {
      "text/plain": [
       "1"
      ]
     },
     "execution_count": 3,
     "metadata": {},
     "output_type": "execute_result"
    }
   ],
   "source": [
    "# run this cell\n",
    "os.system(\"python plantTreasure.py\")"
   ]
  },
  {
   "cell_type": "code",
   "execution_count": 4,
   "id": "6856e7ff",
   "metadata": {},
   "outputs": [
    {
     "data": {
      "text/plain": [
       "['.ipynb_checkpoints', 'exercise_2.ipynb', 'plantTreasure.py']"
      ]
     },
     "execution_count": 4,
     "metadata": {},
     "output_type": "execute_result"
    }
   ],
   "source": [
    "# see what happened\n",
    "os.listdir('./')"
   ]
  },
  {
   "cell_type": "code",
   "execution_count": 7,
   "id": "d244ded8",
   "metadata": {},
   "outputs": [
    {
     "name": "stdout",
     "output_type": "stream",
     "text": [
      "Collecting faker\n",
      "  Downloading Faker-17.6.0-py3-none-any.whl (1.7 MB)\n",
      "Requirement already satisfied: python-dateutil>=2.4 in c:\\users\\48786\\anaconda\\lib\\site-packages (from faker) (2.8.1)\n",
      "Requirement already satisfied: six>=1.5 in c:\\users\\48786\\anaconda\\lib\\site-packages (from python-dateutil>=2.4->faker) (1.15.0)\n",
      "Installing collected packages: faker\n",
      "Successfully installed faker-17.6.0\n"
     ]
    }
   ],
   "source": [
    "!pip install faker"
   ]
  },
  {
   "cell_type": "code",
   "execution_count": 8,
   "id": "8b325507",
   "metadata": {},
   "outputs": [
    {
     "name": "stderr",
     "output_type": "stream",
     "text": [
      "'touch' is not recognized as an internal or external command,\n",
      "operable program or batch file.\n"
     ]
    }
   ],
   "source": [
    "# you should see now a folder named \"startFolder\" was created\n",
    "\n",
    "!python plantTreasure.py"
   ]
  },
  {
   "cell_type": "markdown",
   "id": "59a72221",
   "metadata": {},
   "source": [
    "### Goals for task 2:\n",
    "#### a. use os.system() or other functions to see what is inside of the startFolder\n",
    "#### b. find out which folder under the \"startFolder\" contain the \"treasure\" (spoiler alert, it's a txt file named treasure.txt)"
   ]
  },
  {
   "cell_type": "markdown",
   "id": "2473b88b",
   "metadata": {},
   "source": [
    "#### tipps for task 2.a:\n",
    "    i. os.system(cmd_str), os.chdir(), os.getcwd(), etc can be helpful.\n",
    "    ii. use pwd to see where you are right now\n"
   ]
  },
  {
   "cell_type": "code",
   "execution_count": 9,
   "id": "295ef6cd",
   "metadata": {},
   "outputs": [
    {
     "data": {
      "text/plain": [
       "'C:\\\\Users\\\\48786\\\\Documents\\\\GitHub\\\\pyclass23\\\\day2_good_code\\\\exercise_2'"
      ]
     },
     "execution_count": 9,
     "metadata": {},
     "output_type": "execute_result"
    }
   ],
   "source": [
    "pwd"
   ]
  },
  {
   "cell_type": "code",
   "execution_count": 14,
   "id": "a95a0878",
   "metadata": {},
   "outputs": [
    {
     "data": {
      "text/plain": [
       "['Aaron',\n",
       " 'Adam',\n",
       " 'Alexa',\n",
       " 'Amanda',\n",
       " 'Amy',\n",
       " 'Andrea',\n",
       " 'Anna',\n",
       " 'Anthony',\n",
       " 'April',\n",
       " 'Ashley',\n",
       " 'Austin',\n",
       " 'Bailey',\n",
       " 'Brett',\n",
       " 'Brian',\n",
       " 'Brianna',\n",
       " 'Cameron',\n",
       " 'Carl',\n",
       " 'Cheryl',\n",
       " 'Cody',\n",
       " 'Connie',\n",
       " 'Crystal',\n",
       " 'Daniel',\n",
       " 'Darren',\n",
       " 'Debbie',\n",
       " 'Debra',\n",
       " 'Dennis',\n",
       " 'Erika',\n",
       " 'Erin',\n",
       " 'Francisco',\n",
       " 'Gerald',\n",
       " 'Gregory',\n",
       " 'Hannah',\n",
       " 'Heather',\n",
       " 'Henry',\n",
       " 'Jaclyn',\n",
       " 'Jacqueline',\n",
       " 'James',\n",
       " 'Jasmine',\n",
       " 'Jason',\n",
       " 'Jean',\n",
       " 'Jennifer',\n",
       " 'Jeremy',\n",
       " 'Jill',\n",
       " 'John',\n",
       " 'Joshua',\n",
       " 'Juan',\n",
       " 'Julie',\n",
       " 'Justin',\n",
       " 'Kathleen',\n",
       " 'Kathryn',\n",
       " 'Kelly',\n",
       " 'Kenneth',\n",
       " 'Kevin',\n",
       " 'Kimberly',\n",
       " 'Kristina',\n",
       " 'Linda',\n",
       " 'Lisa',\n",
       " 'Marcus',\n",
       " 'Mariah',\n",
       " 'Mark',\n",
       " 'Matthew',\n",
       " 'Megan',\n",
       " 'Meghan',\n",
       " 'Michael',\n",
       " 'Michelle',\n",
       " 'Paul',\n",
       " 'Paula',\n",
       " 'Preston',\n",
       " 'Rachel',\n",
       " 'Randall',\n",
       " 'Rebecca',\n",
       " 'Richard',\n",
       " 'Rickey',\n",
       " 'Ryan',\n",
       " 'Samuel',\n",
       " 'Sara',\n",
       " 'Sarah',\n",
       " 'Scott',\n",
       " 'Sharon',\n",
       " 'Shelby',\n",
       " 'Sherry',\n",
       " 'Stacey',\n",
       " 'Steven',\n",
       " 'Susan',\n",
       " 'Sydney',\n",
       " 'Tammy',\n",
       " 'Tara',\n",
       " 'Timothy',\n",
       " 'Tony',\n",
       " 'Tracey',\n",
       " 'Travis',\n",
       " 'Tyler',\n",
       " 'Valerie',\n",
       " 'Victoria',\n",
       " 'Whitney',\n",
       " 'William',\n",
       " 'Zachary']"
      ]
     },
     "execution_count": 14,
     "metadata": {},
     "output_type": "execute_result"
    }
   ],
   "source": [
    "# code to inspect the startFolder\n",
    "p = os.getcwd() +\"\\\\startFolder\"\n",
    "os.listdir(p)"
   ]
  },
  {
   "cell_type": "markdown",
   "id": "12d59796",
   "metadata": {},
   "source": [
    "#### tipps for task 2.b:\n",
    "    i. click and open could work but there are more than 50 folders ...\n",
    "    ii. use a loop\n",
    "    iii. use os.listdir() to see what is inside a folder\n",
    "    iv. './' means current directory, '../' means the the parent directory (one up)"
   ]
  },
  {
   "cell_type": "code",
   "execution_count": 19,
   "id": "6dbedc41",
   "metadata": {},
   "outputs": [
    {
     "name": "stdout",
     "output_type": "stream",
     "text": [
      "Cameron\n"
     ]
    }
   ],
   "source": [
    "# code to find where the treasure.txt file is\n",
    "\n",
    "for i in os.listdir(p):\n",
    "    x = os.getcwd() + \"\\\\startFolder\\\\\" + str(i)\n",
    "    if os.listdir(x) != []:\n",
    "        print(i)"
   ]
  }
 ],
 "metadata": {
  "kernelspec": {
   "display_name": "Python 3",
   "language": "python",
   "name": "python3"
  },
  "language_info": {
   "codemirror_mode": {
    "name": "ipython",
    "version": 3
   },
   "file_extension": ".py",
   "mimetype": "text/x-python",
   "name": "python",
   "nbconvert_exporter": "python",
   "pygments_lexer": "ipython3",
   "version": "3.8.8"
  }
 },
 "nbformat": 4,
 "nbformat_minor": 5
}

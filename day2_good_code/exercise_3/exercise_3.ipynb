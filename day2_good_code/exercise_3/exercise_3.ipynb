{
 "cells": [
  {
   "cell_type": "code",
   "execution_count": 27,
   "id": "d3dc4f60",
   "metadata": {},
   "outputs": [],
   "source": [
    "import os"
   ]
  },
  {
   "cell_type": "markdown",
   "id": "f96e0a80",
   "metadata": {},
   "source": [
    "### Tasks:\n",
    "1. open the treasure.txt file\n",
    "2. read the content of treasure.txt\n",
    "3. write your answer into the treasure.txt\n"
   ]
  },
  {
   "cell_type": "markdown",
   "id": "bbdc470a",
   "metadata": {},
   "source": [
    "### (If we have talked about error-handling by now, try to implement the code with related knowledge.)"
   ]
  },
  {
   "cell_type": "markdown",
   "id": "4bb7f87f",
   "metadata": {},
   "source": [
    "#### tipps:\n",
    "     1.f.write('\\n') changes to a new line\n",
    "     2.if you overwrite the treasure.txt file try to restart the game by running plantTreasure.py(see exercise_2)"
   ]
  },
  {
   "cell_type": "markdown",
   "id": "06efde15",
   "metadata": {},
   "source": [
    "### where are you at right now"
   ]
  },
  {
   "cell_type": "code",
   "execution_count": 28,
   "id": "73294fab",
   "metadata": {},
   "outputs": [
    {
     "data": {
      "text/plain": [
       "'C:\\\\Users\\\\48786\\\\Documents\\\\GitHub\\\\pyclass23\\\\day2_good_code\\\\exercise_3'"
      ]
     },
     "execution_count": 28,
     "metadata": {},
     "output_type": "execute_result"
    }
   ],
   "source": [
    "pwd"
   ]
  },
  {
   "cell_type": "markdown",
   "id": "5ba13d6e",
   "metadata": {},
   "source": [
    "### change the current working directory if needed"
   ]
  },
  {
   "cell_type": "code",
   "execution_count": 29,
   "id": "ceddc0e7",
   "metadata": {},
   "outputs": [
    {
     "data": {
      "text/plain": [
       "True"
      ]
     },
     "execution_count": 29,
     "metadata": {},
     "output_type": "execute_result"
    }
   ],
   "source": [
    "# just suggestions: \n",
    "# goal_directory = \"\"\n",
    "# os.chdir(goal_directory)\n",
    "# os.system(cmd_str)\n",
    "\n",
    "path = \"C:\\\\Users\\\\48786\\\\Documents\\\\GitHub\\\\pyclass23\\\\day2_good_code\\\\exercise_2\\\\startFolder\\\\Cameron\\\\treasure.txt\"\n",
    "os.path.isfile(path)\n",
    "#os.system(path)"
   ]
  },
  {
   "cell_type": "markdown",
   "id": "433dea00",
   "metadata": {},
   "source": [
    "#### tipps - modes with which you can open a file\n",
    "\"r\":Read, default value, opens a file for reading, ERROR if the file doesn't exist\n",
    "\n",
    "\"r+\":Read and overwrite, opens a file for reading, ERROR if the file doesn't exist??->test\n",
    "\n",
    "\"a\":Append, opens a file for appending, CREATES if the file doesn't exist\n",
    "\n",
    "\"a+\":Append and read data from the file. It won’t override existing data, the file pointer sits at the end of the file\n",
    "\n",
    "\"w\":(over)Write, opens a file for writing anew, CREATES if the file doesn't exist\n",
    "\n",
    "\"w+\": To write and read data. It will override existing data.\n",
    "\n",
    "\"x\":Create, CREATES the specified file, ERROR if the file exists."
   ]
  },
  {
   "cell_type": "markdown",
   "id": "a70b7825",
   "metadata": {},
   "source": [
    "### Task 3.1 & 3.2 read the treasure.txt"
   ]
  },
  {
   "cell_type": "code",
   "execution_count": 30,
   "id": "edc16001",
   "metadata": {},
   "outputs": [
    {
     "name": "stdout",
     "output_type": "stream",
     "text": [
      "Q1:\n",
      "Product A and product B cost together 110 Euro, and A is 100 Euro more expensive than B.\n",
      "How much does B cost?\n",
      "Q2:\n",
      "If you were to divide a gigantic research funding among vision, auditory, olfaction, gustation and haptic science, how many percent of it would you give to vision?\n"
     ]
    }
   ],
   "source": [
    "with open(path, 'r') as text:\n",
    "    textfile = text.read()\n",
    "    print(textfile)"
   ]
  },
  {
   "cell_type": "markdown",
   "id": "5cfe329f",
   "metadata": {},
   "source": [
    "### Task 3.3 write your answer in a new line"
   ]
  },
  {
   "cell_type": "code",
   "execution_count": 31,
   "id": "cde65c2c",
   "metadata": {},
   "outputs": [],
   "source": [
    "# code \n",
    "\n",
    "# open the treasure.txt, in what mode?\n",
    "\n",
    "\n",
    "# write() your answer to the question you see\n",
    "\n",
    "with open(path, 'r') as file:\n",
    "    data = file.readlines()\n",
    "\n",
    "data[2] = data[2]+ \"10 Euro \\n\" \n",
    "data[-1] = data[-1] + \"20%\"\n",
    "\n",
    "with open(path, 'w') as file:\n",
    "    file.writelines(data)\n",
    "    \n",
    "# close the file\n"
   ]
  },
  {
   "cell_type": "markdown",
   "id": "70508b5e",
   "metadata": {},
   "source": [
    "### (OPTIONAL) check if your answer is actually written down in the treasure.txt file, however you want."
   ]
  },
  {
   "cell_type": "code",
   "execution_count": 32,
   "id": "62747bd9",
   "metadata": {},
   "outputs": [
    {
     "name": "stdout",
     "output_type": "stream",
     "text": [
      "Q1:\n",
      "Product A and product B cost together 110 Euro, and A is 100 Euro more expensive than B.\n",
      "How much does B cost?\n",
      "10 Euro \n",
      "Q2:\n",
      "If you were to divide a gigantic research funding among vision, auditory, olfaction, gustation and haptic science, how many percent of it would you give to vision?\n",
      " 20%\n"
     ]
    }
   ],
   "source": [
    "# code \n",
    "\n",
    "# open the treasure.txt, in what mode?\n",
    "\n",
    "with open(path, 'r') as text:\n",
    "    textfile = text.read()\n",
    "    print(textfile)\n",
    "\n",
    "# read() the file\n",
    "\n",
    "# close the file"
   ]
  },
  {
   "cell_type": "code",
   "execution_count": null,
   "id": "e3f8253e",
   "metadata": {},
   "outputs": [],
   "source": []
  },
  {
   "cell_type": "code",
   "execution_count": null,
   "id": "2450bab8",
   "metadata": {},
   "outputs": [],
   "source": []
  }
 ],
 "metadata": {
  "kernelspec": {
   "display_name": "Python 3",
   "language": "python",
   "name": "python3"
  },
  "language_info": {
   "codemirror_mode": {
    "name": "ipython",
    "version": 3
   },
   "file_extension": ".py",
   "mimetype": "text/x-python",
   "name": "python",
   "nbconvert_exporter": "python",
   "pygments_lexer": "ipython3",
   "version": "3.8.8"
  }
 },
 "nbformat": 4,
 "nbformat_minor": 5
}

{
 "cells": [
  {
   "cell_type": "markdown",
   "id": "fd81ddec",
   "metadata": {},
   "source": [
    "### Tasks:\n",
    "#### 1. implement functions in 3 different .py file\n",
    "#### 2. load the functions in those 3 .py file into this notebook\n",
    "#### 3. use loaded functions\n"
   ]
  },
  {
   "cell_type": "markdown",
   "id": "c43b44dc",
   "metadata": {},
   "source": [
    "### (If we have talked about error-handling by now, try to implement the code with related knowledge.)"
   ]
  },
  {
   "cell_type": "markdown",
   "id": "58d63cdf",
   "metadata": {},
   "source": [
    "### Goals for task 1:\n",
    "#### a. one .py file including a funciton that generates at least 50 random unique integers, return them in a list\n",
    "        e.g. print(func1()), should print [1,3,4,5,6,....]\n",
    "#### b. one .py file including a function that takes one integer as input and a Boolean value as output. True: the input number is a prime number, False: the input number is not a prime\n",
    "        e.g. print(func2(11)), should print True ; print(func2(14)), will print False\n",
    "#### c. one .py file including a function that take one integer as input and calculates the digit sum of it, returns the digit sum.\n",
    "        e.g. print(func3(234)),should print 9\n"
   ]
  },
  {
   "cell_type": "code",
   "execution_count": null,
   "id": "36b8f644",
   "metadata": {},
   "outputs": [],
   "source": [
    "### You should find 3 .py file in the exercise_1/ folder\n",
    "### almost empty, for you to fill out the logic"
   ]
  },
  {
   "cell_type": "code",
   "execution_count": 1,
   "id": "343aa478",
   "metadata": {},
   "outputs": [],
   "source": [
    "import os"
   ]
  },
  {
   "cell_type": "code",
   "execution_count": 2,
   "id": "98db21ff",
   "metadata": {
    "scrolled": true
   },
   "outputs": [
    {
     "data": {
      "text/plain": [
       "['.ipynb_checkpoints',\n",
       " 'digit_sum.py',\n",
       " 'exercise_1.ipynb',\n",
       " 'num_generator.py',\n",
       " 'prime_finder.py']"
      ]
     },
     "execution_count": 2,
     "metadata": {},
     "output_type": "execute_result"
    }
   ],
   "source": [
    "# after running this cell\n",
    "# you should see digit_sum.py, prime_finder.py and num_generator.py in the print-out\n",
    "os.listdir('./')\n",
    "\n",
    "# if so: start implementing\n",
    "# else: seek help (in this case, Google is NOT your friend)"
   ]
  },
  {
   "cell_type": "markdown",
   "id": "b510a38e",
   "metadata": {},
   "source": [
    "### Once all three (or more) functions are implemented, time to test them in the notebook"
   ]
  },
  {
   "cell_type": "markdown",
   "id": "6b87845b",
   "metadata": {},
   "source": [
    "### Goals for task 2:\n",
    "#### a. load the functions into this notebook and\n",
    "tipps: Google \"how to load .py files in jupyternotebook\", the keyword is \"load\"\n",
    "#### b. call the loaded functions and that will produce reasonable output (see example above in 'Goals for task 1')"
   ]
  },
  {
   "cell_type": "code",
   "execution_count": 83,
   "id": "486753ed",
   "metadata": {},
   "outputs": [],
   "source": [
    "# %load prime_finder.py\n",
    "def prime_finder(num):\n",
    "    for i in range(2,num):\n",
    "        if num%i == 0:\n",
    "            return False\n",
    "    return True"
   ]
  },
  {
   "cell_type": "code",
   "execution_count": 84,
   "id": "becc86d8",
   "metadata": {},
   "outputs": [],
   "source": [
    "# %load num_generator.py\n",
    "# tipps: use python libararies \n",
    "import random\n",
    "\n",
    "def num_generator():\n",
    "    mylist=list()\n",
    "    \n",
    "    for i in range(0,51):\n",
    "        x=random.randint(1,100)\n",
    "        mylist.append(x)\n",
    "    \n",
    "    return mylist"
   ]
  },
  {
   "cell_type": "code",
   "execution_count": 85,
   "id": "8342eee5",
   "metadata": {},
   "outputs": [],
   "source": [
    "# %load digit_sum.py\n",
    "def digit_sum(num):\n",
    "    \n",
    "    sum = 0\n",
    "    for n in str(num):\n",
    "        sum += int(n)\n",
    "\n",
    "    return sum"
   ]
  },
  {
   "cell_type": "code",
   "execution_count": 121,
   "id": "a0044533",
   "metadata": {},
   "outputs": [
    {
     "name": "stdout",
     "output_type": "stream",
     "text": [
      "3\n",
      "[100, 53, 74, 54, 1, 52, 4, 40, 73, 73, 3, 76, 39, 82, 29, 35, 60, 30, 28, 71, 63, 30, 69, 63, 65, 80, 31, 5, 63, 7, 4, 46, 71, 95, 31, 52, 9, 7, 12, 90, 42, 83, 89, 85, 76, 77, 23, 8, 93, 12, 89]\n",
      "True\n"
     ]
    }
   ],
   "source": [
    "# code to test the functions\n",
    "\n",
    "print(digit_sum(111))\n",
    "print(num_generator())\n",
    "print(prime_finder(2))"
   ]
  },
  {
   "cell_type": "markdown",
   "id": "39213137",
   "metadata": {},
   "source": [
    "### Goal for task 3: use the loaded functions to\n",
    "#### a. generate a list of 50 random unique integers\n",
    "#### b. extract the prime numbers out of these 50 integer \n",
    "#### c. sort the extracted prime number according to their digit sum, small->big."
   ]
  },
  {
   "cell_type": "markdown",
   "id": "fa9cc097",
   "metadata": {},
   "source": [
    "#### tipps: \n",
    "1. Have you heard sort() function? \n",
    "2. How about lambda sorting?"
   ]
  },
  {
   "cell_type": "code",
   "execution_count": 129,
   "id": "0809b3af",
   "metadata": {},
   "outputs": [],
   "source": [
    "#3a\n",
    "\n",
    "mylist=list()\n",
    "\n",
    "for i in range(0,51):\n",
    "    x=random.randint(1,100)\n",
    "    if x in mylist:\n",
    "        continue\n",
    "    else:\n",
    "        mylist.append(x)"
   ]
  },
  {
   "cell_type": "code",
   "execution_count": 130,
   "id": "111f8168",
   "metadata": {},
   "outputs": [
    {
     "data": {
      "text/plain": [
       "True"
      ]
     },
     "execution_count": 130,
     "metadata": {},
     "output_type": "execute_result"
    }
   ],
   "source": [
    "#check if unique\n",
    "import numpy as np\n",
    "\n",
    "np.unique(mylist).size == len(mylist)"
   ]
  },
  {
   "cell_type": "code",
   "execution_count": 131,
   "id": "bcd4eaaa",
   "metadata": {},
   "outputs": [
    {
     "data": {
      "text/plain": [
       "[79, 37, 73, 17, 59, 71, 89, 13, 41, 67]"
      ]
     },
     "execution_count": 131,
     "metadata": {},
     "output_type": "execute_result"
    }
   ],
   "source": [
    "# code for 3.b\n",
    "\n",
    "prime_mylist = list()\n",
    "\n",
    "for i in mylist:\n",
    "    if prime_finder(i) == True:\n",
    "        prime_mylist.append(i)\n",
    "    else:\n",
    "        continue\n",
    "        \n",
    "prime_mylist"
   ]
  },
  {
   "cell_type": "code",
   "execution_count": 134,
   "id": "bc226082",
   "metadata": {},
   "outputs": [
    {
     "data": {
      "text/plain": [
       "[13, 17, 37, 41, 59, 67, 71, 73, 79, 89]"
      ]
     },
     "execution_count": 134,
     "metadata": {},
     "output_type": "execute_result"
    }
   ],
   "source": [
    "# code for 3.c\n",
    "\n",
    "prime_mylist.sort()\n",
    "prime_mylist"
   ]
  }
 ],
 "metadata": {
  "kernelspec": {
   "display_name": "Python 3",
   "language": "python",
   "name": "python3"
  },
  "language_info": {
   "codemirror_mode": {
    "name": "ipython",
    "version": 3
   },
   "file_extension": ".py",
   "mimetype": "text/x-python",
   "name": "python",
   "nbconvert_exporter": "python",
   "pygments_lexer": "ipython3",
   "version": "3.8.8"
  }
 },
 "nbformat": 4,
 "nbformat_minor": 5
}

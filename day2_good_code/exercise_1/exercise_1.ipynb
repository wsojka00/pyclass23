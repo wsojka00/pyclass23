{
 "cells": [
  {
   "cell_type": "markdown",
   "id": "fd81ddec",
   "metadata": {},
   "source": [
    "### Tasks:\n",
    "#### 1. implement functions in 3 different .py file\n",
    "#### 2. load the functions in those 3 .py file into this notebook\n",
    "#### 3. use loaded functions\n"
   ]
  },
  {
   "cell_type": "markdown",
   "id": "c43b44dc",
   "metadata": {},
   "source": [
    "### (If we have talked about error-handling by now, try to implement the code with related knowledge.)"
   ]
  },
  {
   "cell_type": "markdown",
   "id": "58d63cdf",
   "metadata": {},
   "source": [
    "### Goals for task 1:\n",
    "#### a. one .py file including a funciton that generates at least 50 random unique integers, return them in a list\n",
    "        e.g. print(func1()), should print [1,3,4,5,6,....]\n",
    "#### b. one .py file including a function that takes one integer as input and a Boolean value as output. True: the input number is a prime number, False: the input number is not a prime\n",
    "        e.g. print(func2(11)), should print True ; print(func2(14)), will print False\n",
    "#### c. one .py file including a function that take one integer as input and calculates the digit sum of it, returns the digit sum.\n",
    "        e.g. print(func3(234)),should print 9\n"
   ]
  },
  {
   "cell_type": "code",
   "execution_count": null,
   "id": "36b8f644",
   "metadata": {},
   "outputs": [],
   "source": [
    "### You should find 3 .py file in the exercise_1/ folder\n",
    "### almost empty, for you to fill out the logic"
   ]
  },
  {
   "cell_type": "code",
   "execution_count": null,
   "id": "343aa478",
   "metadata": {},
   "outputs": [],
   "source": [
    "import os"
   ]
  },
  {
   "cell_type": "code",
   "execution_count": null,
   "id": "98db21ff",
   "metadata": {
    "scrolled": true
   },
   "outputs": [],
   "source": [
    "# after running this cell\n",
    "# you should see digit_sum.py, prime_finder.py and num_generator.py in the print-out\n",
    "os.listdir('./')\n",
    "\n",
    "# if so: start implementing\n",
    "# else: seek help (in this case, Google is NOT your friend)"
   ]
  },
  {
   "cell_type": "markdown",
   "id": "b510a38e",
   "metadata": {},
   "source": [
    "### Once all three (or more) functions are implemented, time to test them in the notebook"
   ]
  },
  {
   "cell_type": "markdown",
   "id": "6b87845b",
   "metadata": {},
   "source": [
    "### Goals for task 2:\n",
    "#### a. load the functions into this notebook and\n",
    "tipps: Google \"how to load .py files in jupyternotebook\", the keyword is \"load\"\n",
    "#### b. call the loaded functions and that will produce reasonable output (see example above in 'Goals for task 1')"
   ]
  },
  {
   "cell_type": "code",
   "execution_count": null,
   "id": "becc86d8",
   "metadata": {},
   "outputs": [],
   "source": [
    "# code to load & import\n"
   ]
  },
  {
   "cell_type": "code",
   "execution_count": null,
   "id": "a0044533",
   "metadata": {},
   "outputs": [],
   "source": [
    "# code to test the functions\n"
   ]
  },
  {
   "cell_type": "markdown",
   "id": "39213137",
   "metadata": {},
   "source": [
    "### Goal for task 3: use the loaded functions to\n",
    "#### a. generate a list of 50 random unique integers\n",
    "#### b. extract the prime numbers out of these 50 integer \n",
    "#### c. sort the extracted prime number according to their digit sum, small->big."
   ]
  },
  {
   "cell_type": "markdown",
   "id": "fa9cc097",
   "metadata": {},
   "source": [
    "#### tipps: \n",
    "1. Have you heard sort() function? \n",
    "2. How about lambda sorting?"
   ]
  },
  {
   "cell_type": "code",
   "execution_count": null,
   "id": "c8807ecf",
   "metadata": {},
   "outputs": [],
   "source": [
    "# code for 3.a"
   ]
  },
  {
   "cell_type": "code",
   "execution_count": null,
   "id": "bcd4eaaa",
   "metadata": {},
   "outputs": [],
   "source": [
    "# code for 3.b"
   ]
  },
  {
   "cell_type": "code",
   "execution_count": null,
   "id": "bc226082",
   "metadata": {},
   "outputs": [],
   "source": [
    "# code for 3.c"
   ]
  },
  {
   "cell_type": "code",
   "execution_count": null,
   "id": "e7a49a9f",
   "metadata": {},
   "outputs": [],
   "source": []
  }
 ],
 "metadata": {
  "kernelspec": {
   "display_name": "Python 3",
   "language": "python",
   "name": "python3"
  },
  "language_info": {
   "codemirror_mode": {
    "name": "ipython",
    "version": 3
   },
   "file_extension": ".py",
   "mimetype": "text/x-python",
   "name": "python",
   "nbconvert_exporter": "python",
   "pygments_lexer": "ipython3",
   "version": "3.8.8"
  }
 },
 "nbformat": 4,
 "nbformat_minor": 5
}

{
 "cells": [
  {
   "cell_type": "markdown",
   "id": "ab8c6ad3-5250-46fe-bc7c-554a7d97fa8d",
   "metadata": {},
   "source": [
    "## Forest fires (8,++) \n",
    "\n",
    "Implement a simple model of forest fires as featured in Malamud et al (1998). The program should be able to run in two different modes: \n",
    "\n",
    "1. Slow mode featuring an animation of the model. That is, one should see the 'forest' growing before a fire, the fire spreading during a fire, a gap in the forest where trees were consumed, and so on.\n",
    "2. Fast, number-crunching mode without animation to verify the principal statement in the paper, namely, that the frequency of occurrence of fires versus fire size (=number of trees burned) follows a power law. The program should produce a double logarithmic plot as featured in the paper. You need not verify all statements in the paper, just pick one set of parameters and show a single distribution. \n",
    "\n",
    "### Reference(s) \n",
    "Malamud B, Morein G, Turcotte DL (1998) Forest fires: an example of self-organized critical behavior. Science 281: 1840-1842. \n",
    "\n",
    "Side note: the topic of 'self-organized criticality' is also a topic in neuroscience! See e.g. Beggs & Plenz 2003 and 2004 (Journal of Neuroscience) as well as many follow-up studies, in which the phenomenon of 'neuronal avalanches' incortical networks in vitro is described. "
   ]
  },
  {
   "cell_type": "code",
   "execution_count": null,
   "id": "21ce8abf-1dea-453d-b358-848430b143a8",
   "metadata": {},
   "outputs": [],
   "source": []
  }
 ],
 "metadata": {
  "kernelspec": {
   "display_name": "Python 3",
   "language": "python",
   "name": "python3"
  },
  "language_info": {
   "codemirror_mode": {
    "name": "ipython",
    "version": 3
   },
   "file_extension": ".py",
   "mimetype": "text/x-python",
   "name": "python",
   "nbconvert_exporter": "python",
   "pygments_lexer": "ipython3",
   "version": "3.8.8"
  }
 },
 "nbformat": 4,
 "nbformat_minor": 5
}
